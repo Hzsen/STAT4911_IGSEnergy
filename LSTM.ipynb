{
 "cells": [
  {
   "cell_type": "code",
   "execution_count": 101,
   "id": "initial_id",
   "metadata": {
    "collapsed": true,
    "ExecuteTime": {
     "end_time": "2024-02-22T05:53:14.795510400Z",
     "start_time": "2024-02-22T05:53:14.744264300Z"
    }
   },
   "outputs": [],
   "source": [
    "import pandas as pd\n",
    "\n",
    "# Load the data into a pandas DataFrame\n",
    "data = pd.read_csv('merged_lz_houston_data.csv', parse_dates=['DateTime'])\n",
    "\n",
    "# Ensure 'Settlement Point Price' and 'QUANTITY' are treated as numeric columns.\n",
    "# Coerce any errors during conversion to NaN, which will be handled during the filling process.\n",
    "# Replace 'Settlement Point Price' with the actual column name from your CSV if it's different.\n",
    "data['Settlement_Point_Price'] = pd.to_numeric(data['Settlement Point Price'], errors='coerce')\n",
    "data['QUANTITY'] = pd.to_numeric(data['QUANTITY'], errors='coerce')\n",
    "\n",
    "# Set 'DateTime' as the index\n",
    "data.set_index('DateTime', inplace=True)\n",
    "\n",
    "# Sort the DataFrame by DateTime to ensure it is in chronological order \n",
    "data.sort_index(inplace=True)\n",
    "\n",
    "# Resample the data to hourly frequency, aggregating with the mean\n",
    "# Only numeric columns should be included in this operation.\n",
    "\n",
    "# Should not Average the Data here, they are separate datasets\n",
    "account_b_data = data[data[\"ACCOUNT_NUMBER\"] == \"account_b\"][['Settlement_Point_Price', 'QUANTITY']]\n",
    "account_a_data = data[data[\"ACCOUNT_NUMBER\"] == \"account_a\"][['Settlement_Point_Price', 'QUANTITY']]\n",
    "\n",
    "account_b_data = account_b_data.dropna()\n",
    "account_a_data = account_a_data.dropna()\n"
   ]
  },
  {
   "cell_type": "code",
   "execution_count": null,
   "id": "e3c1227c967f57e0",
   "metadata": {
    "collapsed": false,
    "ExecuteTime": {
     "end_time": "2024-02-22T05:44:31.238122800Z",
     "start_time": "2024-02-22T05:44:31.152716100Z"
    },
    "pycharm": {
     "is_executing": true
    }
   },
   "outputs": [],
   "source": [
    "import torch\n",
    "import torch.nn as nn\n",
    "from torch.autograd import Variable\n",
    "from sklearn.preprocessing import MinMaxScaler\n",
    "from torch.utils.data import DataLoader, TensorDataset\n",
    "from sklearn.model_selection import TimeSeriesSplit\n",
    "import numpy as np\n",
    "\n",
    "# Scale your data using MinMaxScaler to help the LSTM converge faster\n",
    "scaler = MinMaxScaler(feature_range=(-1, 1))\n",
    "data_scaled = scaler.fit_transform(account_a_data[['QUANTITY']].values)\n",
    "\n",
    "# Convert the dataset into sequences of a specific window size\n",
    "def sliding_windows(data, seq_length):\n",
    "    x = []\n",
    "    y = []\n",
    "\n",
    "    for i in range(len(data)-seq_length-1):\n",
    "        _x = data[i:(i+seq_length)]\n",
    "        _y = data[i+seq_length]\n",
    "        x.append(_x)\n",
    "        y.append(_y)\n",
    "\n",
    "    return np.array(x),np.array(y)\n",
    "\n",
    "# Define the sequence length (number of time steps to look back) and create sequences\n",
    "seq_length = 4\n",
    "x, y = sliding_windows(data_scaled, seq_length)\n",
    "\n",
    "# Convert to PyTorch tensors\n",
    "dataX = torch.Tensor(x)\n",
    "dataY = torch.Tensor(y)\n",
    "\n",
    "# Define the number of splits for cross-validation\n",
    "n_splits = 4  # For example, you can choose 4-fold cross-validation\n",
    "\n",
    "# TimeSeriesSplit provides train/test indices to split time series data samples\n",
    "tscv = TimeSeriesSplit(n_splits=n_splits)\n",
    "\n",
    "# Iterate over each split\n",
    "for fold, (train_index, test_index) in enumerate(tscv.split(dataX)):\n",
    "    # Create training and testing sets for this fold\n",
    "    trainX, trainY = dataX[train_index], dataY[train_index]\n",
    "    testX, testY = dataX[test_index], dataY[test_index]\n",
    "    \n",
    "    # Create DataLoader instances for training and testing sets\n",
    "    batch_size = 64  # You can adjust the batch size\n",
    "    train_dataset = TensorDataset(trainX, trainY)\n",
    "    train_loader = DataLoader(dataset=train_dataset, batch_size=batch_size, shuffle=True)\n",
    "    \n",
    "    test_dataset = TensorDataset(testX, testY)\n",
    "    test_loader = DataLoader(dataset=test_dataset, batch_size=batch_size, shuffle=False)\n"
   ]
  },
  {
   "cell_type": "code",
   "execution_count": 19,
   "id": "1375b6e52dd57690",
   "metadata": {
    "collapsed": false,
    "ExecuteTime": {
     "end_time": "2024-02-21T21:12:53.771562700Z",
     "start_time": "2024-02-21T21:12:53.765055200Z"
    }
   },
   "outputs": [],
   "source": [
    "import torch.nn as nn\n",
    "\n",
    "# Define the LSTM Model\n",
    "class LSTM(nn.Module):\n",
    "    def __init__(self, input_size, hidden_size, output_size, num_layers):\n",
    "        super(LSTM, self).__init__()\n",
    "        self.hidden_size = hidden_size\n",
    "        self.num_layers = num_layers\n",
    "        self.lstm = nn.LSTM(input_size=input_size, hidden_size=hidden_size,\n",
    "                            num_layers=num_layers, batch_first=True)\n",
    "        self.fc = nn.Linear(hidden_size, output_size)\n",
    "\n",
    "    def forward(self, x):\n",
    "        # Initialize hidden and cell states\n",
    "        h0 = torch.zeros(self.num_layers, x.size(0), self.hidden_size).to(x.device)\n",
    "        c0 = torch.zeros(self.num_layers, x.size(0), self.hidden_size).to(x.device)\n",
    "        \n",
    "        # Forward propagate the LSTM\n",
    "        out, _ = self.lstm(x, (h0, c0))\n",
    "        \n",
    "        # Decode the hidden state of the last time step\n",
    "        out = self.fc(out[:, -1, :])\n",
    "        \n",
    "        return out"
   ]
  },
  {
   "cell_type": "markdown",
   "id": "c55d6630d69e79b1",
   "metadata": {
    "collapsed": false
   },
   "source": [
    "The LSTM class is defined with parameters for input size, hidden size, output size, and the number of layers.\n",
    "The forward method initializes the hidden state h0 and cell state c0 with zeros for each batch, ensuring they are on the same device as the input tensor x.\n",
    "The LSTM output out is passed through a fully connected layer to produce the final output.\n",
    "The hidden and cell states are detached from the graph after each batch to prevent backpropagation through the entire sequence of states (which is not needed and would significantly increase memory usage)."
   ]
  },
  {
   "cell_type": "code",
   "execution_count": 94,
   "id": "5e4b1f3a06f64f06",
   "metadata": {
    "collapsed": false,
    "ExecuteTime": {
     "end_time": "2024-02-22T05:35:26.845110400Z",
     "start_time": "2024-02-22T05:31:44.704799100Z"
    }
   },
   "outputs": [
    {
     "name": "stdout",
     "output_type": "stream",
     "text": [
      "Epoch [0/1000], Loss: 0.0336\n",
      "Epoch [100/1000], Loss: 0.0167\n",
      "Epoch [200/1000], Loss: 0.0150\n",
      "Epoch [300/1000], Loss: 0.0135\n",
      "Epoch [400/1000], Loss: 0.0123\n",
      "Epoch [500/1000], Loss: 0.0112\n",
      "Epoch [600/1000], Loss: 0.0102\n",
      "Epoch [700/1000], Loss: 0.0095\n",
      "Epoch [800/1000], Loss: 0.0090\n",
      "Epoch [900/1000], Loss: 0.0086\n",
      "Average Test Loss: 0.0444\n"
     ]
    }
   ],
   "source": [
    "import torch\n",
    "\n",
    "# Model initialization and training configuration\n",
    "num_epochs = 1000\n",
    "learning_rate = 0.01\n",
    "\n",
    "input_size = 1  # This should match the last dimension of your input data\n",
    "hidden_size = 50\n",
    "num_layers = 1\n",
    "\n",
    "output_size = 1  # Since you are predicting a single value\n",
    "\n",
    "# Instantiate the model\n",
    "lstm = LSTM(input_size, hidden_size, output_size, num_layers)\n",
    "lstm = lstm.cuda()  # Ensure model is on CUDA\n",
    "\n",
    "# Loss and optimizer\n",
    "criterion = torch.nn.MSELoss()\n",
    "optimizer = torch.optim.Adam(lstm.parameters(), lr=learning_rate)\n",
    "\n",
    "# Training loop\n",
    "for epoch in range(num_epochs):\n",
    "    lstm.train()  # Set model to training mode\n",
    "    total_loss = 0\n",
    "\n",
    "    for seq, labels in train_loader:\n",
    "        # Move data to CUDA\n",
    "        seq, labels = seq.cuda(), labels.cuda()\n",
    "        #print(f\"Input shape: {seq.shape}\")  # Add this line to check input shape\n",
    "        #outputs = lstm(seq)\n",
    "        # Forward pass\n",
    "        outputs = lstm(seq)\n",
    "        loss = criterion(outputs, labels)\n",
    "\n",
    "        # Backward and optimize\n",
    "        optimizer.zero_grad()\n",
    "        loss.backward()\n",
    "        optimizer.step()\n",
    "\n",
    "        total_loss += loss.item()\n",
    "\n",
    "    if epoch % 100 == 0:  # Print average loss every 100 epochs\n",
    "        print(f'Epoch [{epoch}/{num_epochs}], Loss: {total_loss/len(train_loader):.4f}')\n",
    "\n",
    "# After training, you might want to save your model\n",
    "# torch.save(lstm.state_dict(), 'lstm_model.pth')\n",
    "\n",
    "# Evaluation\n",
    "lstm.eval()  # Set model to evaluation mode\n",
    "test_losses = []\n",
    "with torch.no_grad():\n",
    "    for seq, labels in test_loader:\n",
    "        seq, labels = seq.cuda(), labels.cuda()\n",
    "        outputs = lstm(seq)\n",
    "        loss = criterion(outputs, labels)\n",
    "        test_losses.append(loss.item())\n",
    "\n",
    "average_test_loss = sum(test_losses) / len(test_losses)\n",
    "print(f'Average Test Loss: {average_test_loss:.4f}')"
   ]
  },
  {
   "cell_type": "code",
   "execution_count": 2,
   "id": "7a2ac653ed3e7995",
   "metadata": {
    "collapsed": false,
    "ExecuteTime": {
     "end_time": "2024-02-22T05:31:27.662616800Z",
     "start_time": "2024-02-22T05:31:27.458362600Z"
    }
   },
   "outputs": [
    {
     "ename": "NameError",
     "evalue": "name 'LSTM' is not defined",
     "output_type": "error",
     "traceback": [
      "\u001B[0;31m---------------------------------------------------------------------------\u001B[0m",
      "\u001B[0;31mNameError\u001B[0m                                 Traceback (most recent call last)",
      "Cell \u001B[0;32mIn[2], line 3\u001B[0m\n\u001B[1;32m      1\u001B[0m \u001B[38;5;28;01mfrom\u001B[39;00m \u001B[38;5;21;01mmatplotlib\u001B[39;00m \u001B[38;5;28;01mimport\u001B[39;00m pyplot \u001B[38;5;28;01mas\u001B[39;00m plt\n\u001B[1;32m      2\u001B[0m \u001B[38;5;66;03m#load the model\u001B[39;00m\n\u001B[0;32m----> 3\u001B[0m lstm \u001B[38;5;241m=\u001B[39m \u001B[43mLSTM\u001B[49m(input_size, hidden_size, output_size, num_layers)\n\u001B[1;32m      4\u001B[0m lstm\u001B[38;5;241m.\u001B[39mload_state_dict(torch\u001B[38;5;241m.\u001B[39mload(\u001B[38;5;124m'\u001B[39m\u001B[38;5;124mlstm_model_state_dict.pth\u001B[39m\u001B[38;5;124m'\u001B[39m))\n\u001B[1;32m      5\u001B[0m \u001B[38;5;66;03m# Assuming lstm, trainX, testX are defined and loaded with the correct data\u001B[39;00m\n",
      "\u001B[0;31mNameError\u001B[0m: name 'LSTM' is not defined"
     ]
    }
   ],
   "source": [
    "from matplotlib import pyplot as plt\n",
    "#load the model\n",
    "lstm = LSTM(input_size, hidden_size, output_size, num_layers)\n",
    "lstm.load_state_dict(torch.load('lstm_model_state_dict.pth'))\n",
    "# Assuming lstm, trainX, testX are defined and loaded with the correct data\n",
    "lstm.eval()  # Set the model to evaluation mode\n",
    "\n",
    "# Generate predictions for both training and test sets\n",
    "train_predict = lstm(trainX.cuda())\n",
    "test_predict = lstm(testX.cuda())\n",
    "\n",
    "# Concatenate train and test predictions for full data visualization\n",
    "full_predict = torch.cat((train_predict, test_predict), 0)\n",
    "\n",
    "# Inverse transform the predictions and actual data\n",
    "data_predict = scaler.inverse_transform(full_predict.data.cpu().numpy())\n",
    "dataY_plot = scaler.inverse_transform(dataY.data.cpu().numpy())\n",
    "\n",
    "# Calculate the splitting point in the plot for visualizing train-test separation\n",
    "split_pt = trainX.size(0) + seq_length  # Account for the sequence length\n",
    "\n",
    "# Plotting\n",
    "plt.figure(figsize=(10,6))\n",
    "plt.axvline(x=split_pt, c='r', linestyle='--', label='Train-Test Split')\n",
    "\n",
    "# Actual data\n",
    "plt.plot(dataY_plot, label='Actual Data')\n",
    "\n",
    "# Predictions (overlay on the actual data)\n",
    "plt.plot(np.arange(seq_length, len(data_predict)+seq_length), data_predict, label='Predicted Data')\n",
    "\n",
    "plt.title('Time-Series Prediction')\n",
    "plt.xlabel('Time Index')\n",
    "plt.ylabel('Quantity')\n",
    "plt.legend()\n",
    "plt.show()"
   ]
  },
  {
   "cell_type": "code",
   "execution_count": 1,
   "outputs": [
    {
     "ename": "NameError",
     "evalue": "name 'plt' is not defined",
     "output_type": "error",
     "traceback": [
      "\u001B[0;31m---------------------------------------------------------------------------\u001B[0m",
      "\u001B[0;31mNameError\u001B[0m                                 Traceback (most recent call last)",
      "Cell \u001B[0;32mIn[1], line 2\u001B[0m\n\u001B[1;32m      1\u001B[0m \u001B[38;5;66;03m#Plotting the chart for date range 0-2000\u001B[39;00m\n\u001B[0;32m----> 2\u001B[0m \u001B[43mplt\u001B[49m\u001B[38;5;241m.\u001B[39mfigure(figsize\u001B[38;5;241m=\u001B[39m(\u001B[38;5;241m10\u001B[39m,\u001B[38;5;241m6\u001B[39m))\n\u001B[1;32m      3\u001B[0m plt\u001B[38;5;241m.\u001B[39maxvline(x\u001B[38;5;241m=\u001B[39msplit_pt, c\u001B[38;5;241m=\u001B[39m\u001B[38;5;124m'\u001B[39m\u001B[38;5;124mr\u001B[39m\u001B[38;5;124m'\u001B[39m, linestyle\u001B[38;5;241m=\u001B[39m\u001B[38;5;124m'\u001B[39m\u001B[38;5;124m--\u001B[39m\u001B[38;5;124m'\u001B[39m, label\u001B[38;5;241m=\u001B[39m\u001B[38;5;124m'\u001B[39m\u001B[38;5;124mTrain-Test Split\u001B[39m\u001B[38;5;124m'\u001B[39m)\n\u001B[1;32m      4\u001B[0m plt\u001B[38;5;241m.\u001B[39mplot(dataY_plot[:\u001B[38;5;241m2000\u001B[39m], label\u001B[38;5;241m=\u001B[39m\u001B[38;5;124m'\u001B[39m\u001B[38;5;124mActual Data\u001B[39m\u001B[38;5;124m'\u001B[39m)\n",
      "\u001B[0;31mNameError\u001B[0m: name 'plt' is not defined"
     ]
    }
   ],
   "source": [
    "#Plotting the chart for date range 0-2000\n",
    "plt.figure(figsize=(10,6))\n",
    "plt.axvline(x=split_pt, c='r', linestyle='--', label='Train-Test Split')\n",
    "plt.plot(dataY_plot[:2000], label='Actual Data')\n",
    "plt.plot(np.arange(seq_length, 2000+seq_length), data_predict[:2000], label='Predicted Data')\n",
    "plt.title('Time-Series Prediction')\n",
    "plt.xlabel('Time Index')\n",
    "plt.ylabel('Quantity')\n",
    "plt.legend()\n",
    "plt.show()"
   ],
   "metadata": {
    "collapsed": false
   }
  },
  {
   "cell_type": "code",
   "execution_count": 93,
   "id": "59a42af3f0ce042b",
   "metadata": {
    "collapsed": false,
    "ExecuteTime": {
     "end_time": "2024-02-22T05:31:32.587524100Z",
     "start_time": "2024-02-22T05:31:32.577295900Z"
    }
   },
   "outputs": [
    {
     "name": "stdout",
     "output_type": "stream",
     "text": [
      "Mean Squared Error: 2.49443\n",
      "Root Mean Squared Error: 1.57938\n"
     ]
    }
   ],
   "source": [
    "# Calculate the mean squared error\n",
    "mse = np.mean(np.square(dataY_plot - data_predict))\n",
    "print(\"Mean Squared Error: %1.5f\" % mse)\n",
    "# Calculate the root mean squared error\n",
    "rmse = np.sqrt(mse)\n",
    "print(\"Root Mean Squared Error: %1.5f\" % rmse)"
   ]
  },
  {
   "cell_type": "code",
   "execution_count": 23,
   "id": "dd402724ce5e965f",
   "metadata": {
    "collapsed": false,
    "ExecuteTime": {
     "end_time": "2024-02-21T21:16:30.617903Z",
     "start_time": "2024-02-21T21:16:30.614119200Z"
    }
   },
   "outputs": [],
   "source": [
    "# Save the model's state dictionary\n",
    "torch.save(lstm.state_dict(), 'lstm_model_state_dict.pth')"
   ]
  },
  {
   "cell_type": "markdown",
   "source": [
    "# Predict Price without Weather data"
   ],
   "metadata": {
    "collapsed": false
   },
   "id": "816dc48a3a704fa5"
  },
  {
   "cell_type": "code",
   "outputs": [],
   "source": [
    "import pandas as pd\n",
    "from sklearn.preprocessing import MinMaxScaler\n",
    "import torch\n",
    "from torch.utils.data import DataLoader, TensorDataset\n",
    "\n",
    "# Load the data\n",
    "data = pd.read_csv('merged_lz_houston_data.csv', parse_dates=['DateTime'])\n",
    "\n",
    "# Convert 'Settlement Point Price' and 'QUANTITY' to numeric and handle errors\n",
    "data['Settlement_Point_Price'] = pd.to_numeric(data['Settlement Point Price'], errors='coerce')\n",
    "data['QUANTITY'] = pd.to_numeric(data['QUANTITY'], errors='coerce')\n",
    "\n",
    "# Set 'DateTime' as the index and sort the DataFrame\n",
    "data.set_index('DateTime', inplace=True)\n",
    "data.sort_index(inplace=True)\n",
    "\n",
    "# Filter out the data for account A and B, and drop NA values\n",
    "account_a_data = data[data[\"ACCOUNT_NUMBER\"] == \"account_a\"][['Settlement_Point_Price']].dropna()\n",
    "account_b_data = data[data[\"ACCOUNT_NUMBER\"] == \"account_b\"][['Settlement_Point_Price']].dropna()"
   ],
   "metadata": {
    "collapsed": false,
    "ExecuteTime": {
     "end_time": "2024-02-22T05:55:58.872078900Z",
     "start_time": "2024-02-22T05:55:58.830713800Z"
    }
   },
   "id": "f497971e06e9b95e",
   "execution_count": 106
  },
  {
   "cell_type": "code",
   "outputs": [],
   "source": [
    "# Normalize the price data for account A\n",
    "scaler_a = MinMaxScaler(feature_range=(-1, 1))\n",
    "scaled_prices_a = scaler_a.fit_transform(account_a_data.values.reshape(-1, 1))\n",
    "\n",
    "# Convert the data to sequences for account A\n",
    "def create_sequences(data, seq_length):\n",
    "    xs, ys = [], []\n",
    "    for i in range(len(data) - seq_length):\n",
    "        xs.append(data[i:i+seq_length])\n",
    "        ys.append(data[i+seq_length])\n",
    "    return np.array(xs), np.array(ys)\n",
    "\n",
    "seq_length = 4  # Number of time steps to look back\n",
    "X_a, y_a = create_sequences(scaled_prices_a, seq_length)\n",
    "\n",
    "# Split the data into training and test sets for account A\n",
    "train_size_a = int(len(y_a) * 0.67)\n",
    "test_size_a = len(y_a) - train_size_a\n",
    "\n",
    "X_train_a, y_train_a = X_a[:train_size_a], y_a[:train_size_a]\n",
    "X_test_a, y_test_a = X_a[train_size_a:], y_a[train_size_a:]\n",
    "\n",
    "# Convert to PyTorch tensors for account A\n",
    "X_train_tensor_a = torch.tensor(X_train_a, dtype=torch.float32)\n",
    "y_train_tensor_a = torch.tensor(y_train_a, dtype=torch.float32)\n",
    "X_test_tensor_a = torch.tensor(X_test_a, dtype=torch.float32)\n",
    "y_test_tensor_a = torch.tensor(y_test_a, dtype=torch.float32)\n",
    "\n",
    "# Create TensorDatasets and DataLoaders for account A\n",
    "train_dataset_a = TensorDataset(X_train_tensor_a, y_train_tensor_a)\n",
    "train_loader_a = DataLoader(train_dataset_a, batch_size=64, shuffle=True)\n",
    "\n",
    "test_dataset_a = TensorDataset(X_test_tensor_a, y_test_tensor_a)\n",
    "test_loader_a = DataLoader(test_dataset_a, batch_size=64, shuffle=False)\n",
    "\n",
    "# Normalize the price data for account B\n",
    "scaler_b = MinMaxScaler(feature_range=(-1, 1))\n",
    "scaled_prices_b = scaler_b.fit_transform(account_b_data.values.reshape(-1, 1))\n",
    "\n",
    "# Convert the data to sequences for account B\n",
    "X_b, y_b = create_sequences(scaled_prices_b, seq_length)\n",
    "\n",
    "# Split the data into training and test sets for account B\n",
    "train_size_b = int(len(y_b) * 0.67)\n",
    "test_size_b = len(y_b) - train_size_b\n",
    "\n",
    "X_train_b, y_train_b = X_b[:train_size_b], y_b[:train_size_b]\n",
    "X_test_b, y_test_b = X_b[train_size_b:], y_b[train_size_b:]\n",
    "\n",
    "# Convert to PyTorch tensors for account B\n",
    "X_train_tensor_b = torch.tensor(X_train_b, dtype=torch.float32)\n",
    "y_train_tensor_b = torch.tensor(y_train_b, dtype=torch.float32)\n",
    "X_test_tensor_b = torch.tensor(X_test_b, dtype=torch.float32)\n",
    "y_test_tensor_b = torch.tensor(y_test_b, dtype=torch.float32)\n",
    "\n",
    "# Create TensorDatasets and DataLoaders for account B\n",
    "train_dataset_b = TensorDataset(X_train_tensor_b, y_train_tensor_b)\n",
    "train_loader_b = DataLoader(train_dataset_b, batch_size=64, shuffle=True)\n",
    "\n",
    "test_dataset_b = TensorDataset(X_test_tensor_b, y_test_tensor_b)\n",
    "test_loader_b = DataLoader(test_dataset_b, batch_size=64, shuffle=False)\n",
    "\n",
    "\n",
    "class LSTM(nn.Module):\n",
    "    def __init__(self, input_size, hidden_size, num_layers, output_size):\n",
    "        super(LSTM, self).__init__()\n",
    "        self.hidden_size = hidden_size\n",
    "        self.num_layers = num_layers\n",
    "        self.lstm = nn.LSTM(input_size=input_size, hidden_size=hidden_size,\n",
    "                            num_layers=num_layers, batch_first=True)\n",
    "        self.fc = nn.Linear(hidden_size, output_size)\n",
    "\n",
    "    def forward(self, x):\n",
    "        h0 = torch.zeros(self.num_layers, x.size(0), self.hidden_size).to(x.device)\n",
    "        c0 = torch.zeros(self.num_layers, x.size(0), self.hidden_size).to(x.device)\n",
    "        out, _ = self.lstm(x, (h0, c0))\n",
    "        out = self.fc(out[:, -1, :])\n",
    "        return out"
   ],
   "metadata": {
    "collapsed": false,
    "ExecuteTime": {
     "end_time": "2024-02-22T05:56:14.972569500Z",
     "start_time": "2024-02-22T05:56:14.954506500Z"
    }
   },
   "id": "ae7d3842743a6150",
   "execution_count": 109
  },
  {
   "cell_type": "code",
   "outputs": [
    {
     "name": "stdout",
     "output_type": "stream",
     "text": [
      "Epoch [0/1000], Loss: 0.1504\n",
      "Epoch [100/1000], Loss: 0.0022\n",
      "Epoch [200/1000], Loss: 0.0014\n",
      "Epoch [300/1000], Loss: 0.0013\n",
      "Epoch [400/1000], Loss: 0.0012\n",
      "Epoch [500/1000], Loss: 0.0010\n",
      "Epoch [600/1000], Loss: 0.0008\n",
      "Epoch [700/1000], Loss: 0.0007\n",
      "Epoch [800/1000], Loss: 0.0006\n",
      "Epoch [900/1000], Loss: 0.0006\n",
      "Average Test Loss for Account B: 0.0012\n"
     ]
    }
   ],
   "source": [
    "# Set the random seed for reproducibility\n",
    "torch.manual_seed(42)\n",
    "\n",
    "# Model parameters\n",
    "input_size = 1  # As we have one feature, the scaled price\n",
    "hidden_size = 50  # Number of features in the hidden state\n",
    "num_layers = 1  # One-layer LSTM\n",
    "output_size = 1  # As we want to predict one value at a time\n",
    "\n",
    "# Instantiate the model\n",
    "lstm_b = LSTM(input_size, hidden_size, num_layers, output_size)\n",
    "lstm_b = lstm_b.cuda()  # Move model to GPU\n",
    "\n",
    "# Loss and optimizer\n",
    "criterion = nn.MSELoss()\n",
    "optimizer = torch.optim.Adam(lstm_b.parameters(), lr=0.001)\n",
    "\n",
    "# Train the model\n",
    "num_epochs = 1000  # You can adjust the number of epochs\n",
    "lstm_b.train()  # Set model to training mode\n",
    "\n",
    "for epoch in range(num_epochs):\n",
    "    total_loss = 0\n",
    "    for sequences, prices in train_loader_b:\n",
    "        sequences, prices = sequences.cuda(), prices.cuda()\n",
    "        optimizer.zero_grad()  # Clear gradients\n",
    "        outputs = lstm_b(sequences)  # Forward pass\n",
    "        loss = criterion(outputs, prices)  # Compute loss\n",
    "        loss.backward()  # Backward pass\n",
    "        optimizer.step()  # Update weights\n",
    "        total_loss += loss.item()\n",
    "\n",
    "    # Print average loss every 100 epochs\n",
    "    if epoch % 100 == 0:\n",
    "        print(f'Epoch [{epoch}/{num_epochs}], Loss: {total_loss/len(train_loader_b):.4f}')\n",
    "\n",
    "# Save the model after training\n",
    "torch.save(lstm_b.state_dict(), 'lstm_model_price.pth')\n",
    "\n",
    "# Evaluation\n",
    "lstm_b.eval()  # Set the model to evaluation mode\n",
    "test_losses = []\n",
    "with torch.no_grad():\n",
    "    for sequences, prices in test_loader_b:\n",
    "        sequences, prices = sequences.cuda(), prices.cuda()\n",
    "        outputs = lstm_b(sequences)\n",
    "        loss = criterion(outputs, prices)\n",
    "        test_losses.append(loss.item())\n",
    "\n",
    "average_test_loss = sum(test_losses) / len(test_losses)\n",
    "print(f'Average Test Loss for Account B: {average_test_loss:.4f}')"
   ],
   "metadata": {
    "collapsed": false,
    "ExecuteTime": {
     "end_time": "2024-02-22T06:12:47.018587600Z",
     "start_time": "2024-02-22T06:09:39.357028900Z"
    }
   },
   "id": "d983b78ab106ccd",
   "execution_count": 114
  },
  {
   "cell_type": "code",
   "outputs": [
    {
     "data": {
      "text/plain": "<Figure size 1000x600 with 1 Axes>",
      "image/png": "[encoded data removed]"
     },
     "metadata": {},
     "output_type": "display_data"
    }
   ],
   "source": [
    "# Plot the predictions\n",
    "lstm_b.eval()  # Set the model to evaluation mode\n",
    "with torch.no_grad():\n",
    "    # Generate predictions for the test set\n",
    "    test_predict_b = lstm_b(X_test_tensor_b.cuda())\n",
    "    # Inverse transform the predictions and actual data\n",
    "    data_predict_b = scaler_b.inverse_transform(test_predict_b.cpu().numpy())\n",
    "    dataY_plot_b = scaler_b.inverse_transform(y_test_tensor_b.cpu().numpy())\n",
    "    \n",
    "    # Plotting\n",
    "    plt.figure(figsize=(10,6))\n",
    "    plt.plot(dataY_plot_b, label='Actual Data')\n",
    "    plt.plot(data_predict_b, label='Predicted Data')\n",
    "    plt.title('Time-Series Prediction for Account B')\n",
    "    plt.xlabel('Time Index')\n",
    "    plt.ylabel('Price')\n",
    "    plt.legend()\n",
    "    plt.show()\n"
   ],
   "metadata": {
    "collapsed": false,
    "ExecuteTime": {
     "end_time": "2024-02-22T06:22:57.167260400Z",
     "start_time": "2024-02-22T06:22:57.001415700Z"
    }
   },
   "id": "40c098f3afbfc3c2",
   "execution_count": 121
  },
  {
   "cell_type": "code",
   "outputs": [
    {
     "name": "stdout",
     "output_type": "stream",
     "text": [
      "Root Mean Squared Error: 76.82786\n"
     ]
    }
   ],
   "source": [
    "# save the model's state dictionary\n",
    "torch.save(lstm_b.state_dict(), 'lstm_model_state_dict_b_price.pth')\n",
    "# RMS Error\n",
    "mse = np.mean(np.square(dataY_plot_b - data_predict_b))\n",
    "# Calculate the root mean squared error\n",
    "rmse_b = np.sqrt(mse)\n",
    "print(\"Root Mean Squared Error: %1.5f\" % rmse)"
   ],
   "metadata": {
    "collapsed": false,
    "ExecuteTime": {
     "end_time": "2024-02-22T06:23:01.149929200Z",
     "start_time": "2024-02-22T06:23:01.110463200Z"
    }
   },
   "id": "a2fa3f218b357cbd",
   "execution_count": 122
  },
  {
   "cell_type": "code",
   "outputs": [
    {
     "name": "stdout",
     "output_type": "stream",
     "text": [
      "Epoch [0/1000], Loss: 0.1499\n",
      "Epoch [100/1000], Loss: 0.0023\n",
      "Epoch [200/1000], Loss: 0.0014\n",
      "Epoch [300/1000], Loss: 0.0013\n",
      "Epoch [400/1000], Loss: 0.0013\n",
      "Epoch [500/1000], Loss: 0.0010\n",
      "Epoch [600/1000], Loss: 0.0008\n",
      "Epoch [700/1000], Loss: 0.0007\n",
      "Epoch [800/1000], Loss: 0.0006\n",
      "Epoch [900/1000], Loss: 0.0006\n",
      "Average Test Loss for Account A: 0.0013\n"
     ]
    }
   ],
   "source": [
    "# Set the random seed for reproducibility\n",
    "torch.manual_seed(42)\n",
    "\n",
    "# Assuming LSTM class is already defined as provided before\n",
    "# Assuming create_sequences, MinMaxScaler, DataLoader, and TensorDataset are already imported\n",
    "\n",
    "# Model parameters for Account A\n",
    "input_size_a = 1  # As we have one feature, the scaled price\n",
    "hidden_size_a = 50  # Number of features in the hidden state\n",
    "num_layers_a = 1  # One-layer LSTM\n",
    "output_size_a = 1  # As we want to predict one value at a time\n",
    "\n",
    "# Instantiate the model for Account A\n",
    "lstm_a = LSTM(input_size_a, hidden_size_a, num_layers_a, output_size_a)\n",
    "lstm_a = lstm_a.cuda()  # Move model to GPU\n",
    "\n",
    "# Loss and optimizer for Account A\n",
    "criterion_a = nn.MSELoss()\n",
    "optimizer_a = torch.optim.Adam(lstm_a.parameters(), lr=0.001)\n",
    "\n",
    "# Train the model for Account A\n",
    "num_epochs_a = 1000  # You can adjust the number of epochs\n",
    "lstm_a.train()  # Set model to training mode\n",
    "\n",
    "for epoch in range(num_epochs_a):\n",
    "    total_loss_a = 0\n",
    "    for sequences_a, prices_a in train_loader_a:\n",
    "        sequences_a, prices_a = sequences_a.cuda(), prices_a.cuda()\n",
    "        optimizer_a.zero_grad()  # Clear gradients\n",
    "        outputs_a = lstm_a(sequences_a)  # Forward pass\n",
    "        loss_a = criterion_a(outputs_a, prices_a)  # Compute loss\n",
    "        loss_a.backward()  # Backward pass\n",
    "        optimizer_a.step()  # Update weights\n",
    "        total_loss_a += loss_a.item()\n",
    "\n",
    "    # Print average loss every 100 epochs for Account A\n",
    "    if epoch % 100 == 0:\n",
    "        print(f'Epoch [{epoch}/{num_epochs_a}], Loss: {total_loss_a/len(train_loader_a):.4f}')\n",
    "\n",
    "# Save the model after training for Account A\n",
    "torch.save(lstm_a.state_dict(), 'lstm_model_price_account_a.pth')\n",
    "\n",
    "# Evaluation for Account A\n",
    "lstm_a.eval()  # Set the model to evaluation mode\n",
    "test_losses_a = []\n",
    "with torch.no_grad():\n",
    "    for sequences_a, prices_a in test_loader_a:\n",
    "        sequences_a, prices_a = sequences_a.cuda(), prices_a.cuda()\n",
    "        outputs_a = lstm_a(sequences_a)\n",
    "        loss_a = criterion_a(outputs_a, prices_a)\n",
    "        test_losses_a.append(loss_a.item())\n",
    "\n",
    "average_test_loss_a = sum(test_losses_a) / len(test_losses_a)\n",
    "print(f'Average Test Loss for Account A: {average_test_loss_a:.4f}')\n"
   ],
   "metadata": {
    "collapsed": false,
    "ExecuteTime": {
     "end_time": "2024-02-22T06:20:10.356148800Z",
     "start_time": "2024-02-22T06:16:51.251623500Z"
    }
   },
   "id": "5e933b28faca2c7a",
   "execution_count": 118
  },
  {
   "cell_type": "code",
   "outputs": [
    {
     "data": {
      "text/plain": "<Figure size 1000x600 with 1 Axes>",
      "image/png": "[encoded data removed]"
     },
     "metadata": {},
     "output_type": "display_data"
    },
    {
     "name": "stdout",
     "output_type": "stream",
     "text": [
      "Root Mean Squared Error: 76.82786\n"
     ]
    }
   ],
   "source": [
    "# Plot the predictions for Account A\n",
    "lstm_a.eval()  # Set the model to evaluation mode\n",
    "with torch.no_grad():\n",
    "    # Generate predictions for the test set\n",
    "    test_predict_a = lstm_a(X_test_tensor_a.cuda())\n",
    "    # Inverse transform the predictions and actual data\n",
    "    data_predict_a = scaler_a.inverse_transform(test_predict_a.cpu().numpy())\n",
    "    dataY_plot_a = scaler_a.inverse_transform(y_test_tensor_a.cpu().numpy())\n",
    "    \n",
    "    # Plotting\n",
    "    plt.figure(figsize=(10,6))\n",
    "    plt.plot(dataY_plot_a, label='Actual Data')\n",
    "    plt.plot(data_predict_a, label='Predicted Data')\n",
    "    plt.title('Time-Series Prediction for Account A')\n",
    "    plt.xlabel('Time Index')\n",
    "    plt.ylabel('Price')\n",
    "    plt.legend()\n",
    "    plt.show()\n",
    "# RMS Error\n",
    "mse = np.mean(np.square(dataY_plot_a - data_predict_a))\n",
    "# Calculate the root mean squared error\n",
    "rmse = np.sqrt(mse)\n",
    "print(\"Root Mean Squared Error: %1.5f\" % rmse)"
   ],
   "metadata": {
    "collapsed": false,
    "ExecuteTime": {
     "end_time": "2024-02-22T06:22:34.622864900Z",
     "start_time": "2024-02-22T06:22:34.478699800Z"
    }
   },
   "id": "d8bdcd95d85d6565",
   "execution_count": 120
  },
  {
   "cell_type": "markdown",
   "id": "e0042f777dfe1ca0",
   "metadata": {
    "collapsed": false
   },
   "source": [
    "# Predict Price with Weather data"
   ]
  },
  {
   "cell_type": "markdown",
   "id": "f933b7f0",
   "metadata": {},
   "source": [
    "Import Related Libraries"
   ]
  },
  {
   "cell_type": "code",
   "execution_count": 41,
   "id": "cdcea51e",
   "metadata": {
    "ExecuteTime": {
     "end_time": "2024-02-22T02:45:10.184571100Z",
     "start_time": "2024-02-22T02:45:10.175044700Z"
    }
   },
   "outputs": [],
   "source": [
    "import pandas as pd\n",
    "import numpy as np\n",
    "import torch\n",
    "import torch.nn as nn\n",
    "from tqdm import tqdm"
   ]
  },
  {
   "cell_type": "markdown",
   "id": "18198d87",
   "metadata": {},
   "source": [
    "Load in and merge weather data"
   ]
  },
  {
   "cell_type": "code",
   "execution_count": 42,
   "id": "9d64e491",
   "metadata": {
    "ExecuteTime": {
     "end_time": "2024-02-22T02:45:11.498726900Z",
     "start_time": "2024-02-22T02:45:11.424864100Z"
    }
   },
   "outputs": [],
   "source": [
    "# Load in Weather and IGS data\n",
    "igs_data = pd.read_csv(\"updated_igs_data.csv\", index_col = 0)\n",
    "hourly_weather = pd.read_csv(\"houston_hourly_weather_data.csv\")\n",
    "\n",
    "# Merge Data\n",
    "hourly_weather[\"datetime\"] = pd.to_datetime(hourly_weather[\"datetime\"])\n",
    "igs_data[\"LOCAL_FROM_DATETIME\"] = pd.to_datetime(igs_data[\"LOCAL_FROM_DATETIME\"])\n",
    "price_df = igs_data.merge(hourly_weather, how = \"left\", left_on = \"LOCAL_FROM_DATETIME\", right_on = \"datetime\")"
   ]
  },
  {
   "cell_type": "markdown",
   "id": "6545792c",
   "metadata": {},
   "source": [
    "Clean Merged Data"
   ]
  },
  {
   "cell_type": "code",
   "execution_count": 43,
   "id": "35c3f1030c37946",
   "metadata": {
    "collapsed": false,
    "ExecuteTime": {
     "end_time": "2024-02-22T02:45:13.055888700Z",
     "start_time": "2024-02-22T02:45:13.021493100Z"
    }
   },
   "outputs": [],
   "source": [
    "# Rename and Add Columns\n",
    "price_df.rename(columns = {\"Delivery Date\":\"DateTime\"}, inplace = True)\n",
    "price_df[\"Month_Int\"] = price_df[\"LOCAL_FROM_DATETIME\"].apply(lambda d: d.month)\n",
    "\n",
    "#Replace 'Settlement Point Price' with the actual column name from your CSV if it's different.\n",
    "price_df['Settlement_Point_Price'] = pd.to_numeric(price_df['Settlement Point Price'], errors='coerce')\n",
    "price_df['QUANTITY'] = pd.to_numeric(price_df['QUANTITY'], errors='coerce')\n",
    "\n",
    "# Set 'DateTime' as the index\n",
    "price_df.set_index('DateTime', inplace=True)\n",
    "\n",
    "# Sort the DataFrame by DateTime to ensure it is in chronological order\n",
    "price_df.sort_index(inplace=True)\n",
    "\n",
    "# Prices are the same for each account, so we can take prices from a single account\n",
    "price_df = price_df[price_df[\"ACCOUNT_NUMBER\"] == \"account_a\"][[\"Settlement_Point_Price\", \"Month_Int\", \"Hour\", \"Holiday\", \"Day\", \"Weekend\", \"temp\"]]\n",
    "price_df = price_df.dropna()\n",
    "\n",
    "# Change Boolean values to floats\n",
    "price_df = price_df.astype(float)"
   ]
  },
  {
   "cell_type": "markdown",
   "id": "cb78f9c0",
   "metadata": {},
   "source": [
    "Function to create sequences of data"
   ]
  },
  {
   "cell_type": "code",
   "execution_count": 83,
   "id": "4e39ea67",
   "metadata": {
    "ExecuteTime": {
     "end_time": "2024-02-22T05:23:16.302911600Z",
     "start_time": "2024-02-22T05:23:16.293704200Z"
    }
   },
   "outputs": [],
   "source": [
    "def create_sequences(data, seq_length, target_column_index=0):\n",
    "    xs = []\n",
    "    ys = []\n",
    "\n",
    "    for i in range(len(data) - seq_length):\n",
    "        x = data[i:(i + seq_length), :]\n",
    "        y = data[i + seq_length, target_column_index]\n",
    "        xs.append(x)\n",
    "        ys.append(y)\n",
    "\n",
    "    return torch.tensor(xs, dtype=torch.float32), torch.tensor(ys, dtype=torch.float32).view(-1, 1)"
   ]
  },
  {
   "cell_type": "markdown",
   "id": "11fd2f5a",
   "metadata": {},
   "source": [
    "Our LSTM Model Architecture:"
   ]
  },
  {
   "cell_type": "code",
   "execution_count": 84,
   "id": "c2af7d1f",
   "metadata": {
    "ExecuteTime": {
     "end_time": "2024-02-22T05:23:18.723189300Z",
     "start_time": "2024-02-22T05:23:18.710679100Z"
    }
   },
   "outputs": [],
   "source": [
    "class CustomLSTM(nn.Module):\n",
    "    def __init__(self, input_size, hidden_size, num_layers, output_size, dropout_rate=0.2):\n",
    "        super(CustomLSTM, self).__init__()\n",
    "        self.hidden_size = hidden_size\n",
    "        self.num_layers = num_layers\n",
    "        # Apply dropout only if num_layers > 1\n",
    "        self.lstm = nn.LSTM(input_size, hidden_size, num_layers, batch_first=True, dropout=dropout_rate if num_layers > 1 else 0)\n",
    "        self.dropout = nn.Dropout(dropout_rate)\n",
    "        self.fc = nn.Linear(hidden_size, output_size)\n",
    "\n",
    "    def forward(self, x_time):\n",
    "        # Initialize hidden and cell states with the correct device\n",
    "        h_0 = torch.zeros(self.num_layers, x_time.size(0), self.hidden_size).to(x_time.device)\n",
    "        c_0 = torch.zeros(self.num_layers, x_time.size(0), self.hidden_size).to(x_time.device)\n",
    "\n",
    "        # Forward propagate LSTM\n",
    "        out, (h_n, c_n) = self.lstm(x_time, (h_0, c_0))\n",
    "        # Pass the output of the last time step through the dropout and fc layers\n",
    "        out = self.dropout(out[:, -1, :])\n",
    "        out = self.fc(out)\n",
    "\n",
    "        return out"
   ]
  },
  {
   "cell_type": "markdown",
   "id": "3a3b87eb",
   "metadata": {},
   "source": [
    "Dataset Initialization"
   ]
  },
  {
   "cell_type": "code",
   "execution_count": 86,
   "id": "794725de",
   "metadata": {
    "ExecuteTime": {
     "end_time": "2024-02-22T05:24:17.170554900Z",
     "start_time": "2024-02-22T05:24:16.749183Z"
    }
   },
   "outputs": [],
   "source": [
    "# Create Device\n",
    "device = torch.device(\"cuda\" if torch.cuda.is_available() else \"cpu\")\n",
    "\n",
    "# First, ensure your DataFrame's index is a DatetimeIndex\n",
    "price_df.index = pd.to_datetime(price_df.index)\n",
    "\n",
    "# Now you can extract the day of the month\n",
    "days = price_df.index.day\n",
    "# Assuming price_df has more than 2 columns, and we're only interested in two of them\n",
    "# Let's extract only the Settlement_Point_Price and temp columns\n",
    "selected_features = price_df[['Settlement_Point_Price', 'temp']].values\n",
    "\n",
    "# Now we can create our sequences with only those two features\n",
    "seq_length = 72  # Adjust this if needed\n",
    "X, Y = create_sequences(selected_features, seq_length)\n",
    "\n",
    "# Now, let's update the train/test split logic\n",
    "# Assuming we have a column 'Day' in the original price_df to determine the days of the month\n",
    "days = price_df.index.day  # Extracting the day of the month from the index of price_df\n",
    "val_days = days[seq_length:]  # Adjusting for the sequence length offset\n",
    "\n",
    "# Conditions for validation and training based on the day of the month\n",
    "val_condition = val_days >= 25\n",
    "train_condition = (val_days > 3) & (val_days < 25)\n",
    "\n",
    "# Apply the conditions to the sequences\n",
    "X_train = X[train_condition]\n",
    "Y_train = Y[train_condition]\n",
    "X_test = X[val_condition]\n",
    "Y_test = Y[val_condition]\n"
   ]
  },
  {
   "cell_type": "markdown",
   "id": "1dceb360",
   "metadata": {},
   "source": [
    "Model Initalization:"
   ]
  },
  {
   "cell_type": "code",
   "execution_count": 87,
   "id": "82a480f1",
   "metadata": {
    "ExecuteTime": {
     "end_time": "2024-02-22T05:24:19.575194600Z",
     "start_time": "2024-02-22T05:24:19.556748300Z"
    }
   },
   "outputs": [],
   "source": [
    "# Determine the correct number of input features from your data\n",
    "input_size = X_train.shape[2]  # This should be the size of the last dimension of your input data\n",
    "\n",
    "# Other hyperparameters remain unchanged\n",
    "hidden_size = 50\n",
    "num_layers = 3\n",
    "output_size = 1\n",
    "num_epochs = 1000\n",
    "learning_rate = 0.001\n",
    "\n",
    "# Update the model initialization with the correct input_size\n",
    "model = CustomLSTM(input_size, hidden_size, num_layers, output_size).to(device)\n",
    "\n",
    "# Set up loss and optimizer\n",
    "criterion = torch.nn.MSELoss(reduction = \"mean\")\n",
    "optimizer = torch.optim.Adam(model.parameters(), lr=learning_rate)"
   ]
  },
  {
   "cell_type": "markdown",
   "id": "13a29343",
   "metadata": {},
   "source": [
    "This is the training loop"
   ]
  },
  {
   "cell_type": "code",
   "execution_count": 88,
   "id": "f84908f8",
   "metadata": {
    "ExecuteTime": {
     "end_time": "2024-02-22T05:26:00.019974100Z",
     "start_time": "2024-02-22T05:24:21.280659Z"
    }
   },
   "outputs": [
    {
     "name": "stderr",
     "output_type": "stream",
     "text": [
      " 10%|█         | 101/1000 [00:10<01:29, 10.01it/s]"
     ]
    },
    {
     "name": "stdout",
     "output_type": "stream",
     "text": [
      "Epoch 100, Train Loss: 41232.44921875, Val Loss: 101561.5703125\n"
     ]
    },
    {
     "name": "stderr",
     "output_type": "stream",
     "text": [
      " 20%|██        | 202/1000 [00:20<01:18, 10.22it/s]"
     ]
    },
    {
     "name": "stdout",
     "output_type": "stream",
     "text": [
      "Epoch 200, Train Loss: 40770.75390625, Val Loss: 100880.7421875\n"
     ]
    },
    {
     "name": "stderr",
     "output_type": "stream",
     "text": [
      " 30%|███       | 302/1000 [00:30<01:08, 10.21it/s]"
     ]
    },
    {
     "name": "stdout",
     "output_type": "stream",
     "text": [
      "Epoch 300, Train Loss: 40417.77734375, Val Loss: 100322.7109375\n"
     ]
    },
    {
     "name": "stderr",
     "output_type": "stream",
     "text": [
      " 40%|████      | 400/1000 [00:39<01:00,  9.87it/s]"
     ]
    },
    {
     "name": "stdout",
     "output_type": "stream",
     "text": [
      "Epoch 400, Train Loss: 40134.0390625, Val Loss: 99848.9140625\n"
     ]
    },
    {
     "name": "stderr",
     "output_type": "stream",
     "text": [
      " 50%|█████     | 502/1000 [00:49<00:48, 10.17it/s]"
     ]
    },
    {
     "name": "stdout",
     "output_type": "stream",
     "text": [
      "Epoch 500, Train Loss: 39890.0, Val Loss: 99445.0390625\n"
     ]
    },
    {
     "name": "stderr",
     "output_type": "stream",
     "text": [
      " 60%|██████    | 602/1000 [00:59<00:38, 10.24it/s]"
     ]
    },
    {
     "name": "stdout",
     "output_type": "stream",
     "text": [
      "Epoch 600, Train Loss: 39711.35546875, Val Loss: 99101.0078125\n"
     ]
    },
    {
     "name": "stderr",
     "output_type": "stream",
     "text": [
      " 70%|███████   | 702/1000 [01:09<00:29, 10.20it/s]"
     ]
    },
    {
     "name": "stdout",
     "output_type": "stream",
     "text": [
      "Epoch 700, Train Loss: 39564.609375, Val Loss: 98809.6484375\n"
     ]
    },
    {
     "name": "stderr",
     "output_type": "stream",
     "text": [
      " 80%|████████  | 801/1000 [01:19<00:19, 10.22it/s]"
     ]
    },
    {
     "name": "stdout",
     "output_type": "stream",
     "text": [
      "Epoch 800, Train Loss: 39408.65234375, Val Loss: 98564.2578125\n"
     ]
    },
    {
     "name": "stderr",
     "output_type": "stream",
     "text": [
      " 90%|█████████ | 901/1000 [01:28<00:09, 10.20it/s]"
     ]
    },
    {
     "name": "stdout",
     "output_type": "stream",
     "text": [
      "Epoch 900, Train Loss: 39319.27734375, Val Loss: 98358.734375\n"
     ]
    },
    {
     "name": "stderr",
     "output_type": "stream",
     "text": [
      "100%|██████████| 1000/1000 [01:38<00:00, 10.13it/s]"
     ]
    },
    {
     "name": "stdout",
     "output_type": "stream",
     "text": [
      "Epoch 1000, Train Loss: 39288.796875, Val Loss: 98187.859375\n"
     ]
    },
    {
     "name": "stderr",
     "output_type": "stream",
     "text": [
      "\n"
     ]
    }
   ],
   "source": [
    "train_loss_log = []\n",
    "val_loss_log = []\n",
    "\n",
    "for epoch in tqdm(range(num_epochs)):\n",
    "    model.train()\n",
    "    optimizer.zero_grad()\n",
    "    \n",
    "    # Forward pass\n",
    "    output = model(X_train.to(device))\n",
    "    loss = criterion(output.view(-1), Y_train.to(device).view(-1))\n",
    "    \n",
    "    # Backward pass and optimization\n",
    "    loss.backward()\n",
    "    optimizer.step()\n",
    "    train_loss_log.append(loss.item())\n",
    "\n",
    "    # Validation Loss:\n",
    "    model.eval()\n",
    "    with torch.no_grad():\n",
    "        Y_Test_pred = model(X_test.to(device))\n",
    "        # Ensure Y_test is also moved to the same device as the model and X_test\n",
    "        val_loss = criterion(Y_Test_pred.view(-1), Y_test.to(device).view(-1))\n",
    "        val_loss_log.append(val_loss.item())\n",
    "        \n",
    "    if (epoch+1) % 100 == 0:\n",
    "        print(f'Epoch {epoch+1}, Train Loss: {loss.item()}, Val Loss: {val_loss.item()}')"
   ]
  },
  {
   "cell_type": "markdown",
   "id": "73f0c63c",
   "metadata": {},
   "source": [
    "Plot the Learning Curves"
   ]
  },
  {
   "cell_type": "code",
   "execution_count": 89,
   "id": "bf9ae7b9",
   "metadata": {
    "ExecuteTime": {
     "end_time": "2024-02-22T05:26:05.956424100Z",
     "start_time": "2024-02-22T05:26:05.774289400Z"
    }
   },
   "outputs": [
    {
     "data": {
      "text/plain": "Text(0.5, 1.0, 'Price LSTM Training Curves')"
     },
     "execution_count": 89,
     "metadata": {},
     "output_type": "execute_result"
    },
    {
     "data": {
      "text/plain": "<Figure size 640x480 with 1 Axes>",
      "image/png": "[encoded data removed]"
     },
     "metadata": {},
     "output_type": "display_data"
    }
   ],
   "source": [
    "import matplotlib.pyplot as plt\n",
    "\n",
    "plt.plot(train_loss_log, label = \"Training Loss\")\n",
    "plt.plot(val_loss_log, label = \"Val Loss\")\n",
    "plt.legend()\n",
    "plt.xlabel(\"Epoch\")\n",
    "plt.ylabel(\"Loss\")\n",
    "plt.title(\"Price LSTM Training Curves\")"
   ]
  },
  {
   "cell_type": "markdown",
   "id": "7eaed6aa",
   "metadata": {},
   "source": [
    "Plot Predictions"
   ]
  },
  {
   "cell_type": "code",
   "execution_count": 90,
   "id": "a245ecaa7254f385",
   "metadata": {
    "collapsed": false,
    "ExecuteTime": {
     "end_time": "2024-02-22T05:26:08.793353600Z",
     "start_time": "2024-02-22T05:26:08.532630Z"
    }
   },
   "outputs": [
    {
     "name": "stdout",
     "output_type": "stream",
     "text": [
      "Test RMSE: 313.34942057549745\n"
     ]
    },
    {
     "data": {
      "text/plain": "<Figure size 1500x500 with 1 Axes>",
      "image/png": "[encoded data removed]"
     },
     "metadata": {},
     "output_type": "display_data"
    }
   ],
   "source": [
    "# Assuming 'device' is defined elsewhere in your code, e.g., device = torch.device(\"cuda\" if torch.cuda.is_available() else \"cpu\")\n",
    "model.eval()\n",
    "with torch.no_grad():\n",
    "    # Move X_test to the same device as the model\n",
    "    Y_test_pred = model(X_test.to(device))\n",
    "    \n",
    "    # Move Y_test_pred back to CPU for further operations (if necessary)\n",
    "    Y_test_pred = Y_test_pred.cpu()\n",
    "    \n",
    "    # Assuming Y_test is a tensor, ensure it's on the CPU for comparison and plotting\n",
    "    Y_test = Y_test.cpu()\n",
    "\n",
    "# Now that Y_test_pred and Y_test are on the CPU, convert them to numpy arrays if needed\n",
    "# y_test_pred_numpy = Y_test_pred.numpy()  # Only if Y_test_pred is a tensor, not necessary if it's already a numpy array\n",
    "# y_test_numpy = Y_test.numpy()  # Only if Y_test is a tensor\n",
    "\n",
    "# Calculate RMSE\n",
    "rmse = np.sqrt(criterion(Y_test, Y_test_pred).item())\n",
    "print(f'Test RMSE: {rmse}')\n",
    "\n",
    "# Plotting\n",
    "plt.figure(figsize=(15, 5))\n",
    "plt.plot(Y_test.numpy(), label='Actual Price')  # Ensure conversion to numpy for plotting\n",
    "plt.plot(Y_test_pred.numpy(), label='Predicted Price')  # Ensure conversion to numpy for plotting\n",
    "plt.title('Electricity Price Prediction Validation')\n",
    "plt.xlabel('Time (Not Real Time)')\n",
    "plt.ylabel('Price')\n",
    "plt.legend()\n",
    "plt.show()"
   ]
  },
  {
   "cell_type": "markdown",
   "id": "d78fb92f",
   "metadata": {},
   "source": [
    "Potential future assessments:\n",
    "\n",
    "1. Plot fitted values when using the feature vector in LSTM"
   ]
  }
 ],
 "metadata": {
  "kernelspec": {
   "display_name": "Python 3",
   "language": "python",
   "name": "python3"
  },
  "language_info": {
   "codemirror_mode": {
    "name": "ipython",
    "version": 3
   },
   "file_extension": ".py",
   "mimetype": "text/x-python",
   "name": "python",
   "nbconvert_exporter": "python",
   "pygments_lexer": "ipython3",
   "version": "3.12.1"
  }
 },
 "nbformat": 4,
 "nbformat_minor": 5
}
