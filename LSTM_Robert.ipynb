{
 "cells": [
  {
   "cell_type": "markdown",
   "id": "e0042f777dfe1ca0",
   "metadata": {
    "collapsed": false
   },
   "source": [
    "# Predict Price with Weather data"
   ]
  },
  {
   "cell_type": "markdown",
   "id": "f933b7f0",
   "metadata": {},
   "source": [
    "Import Related Libraries"
   ]
  },
  {
   "cell_type": "code",
   "execution_count": 1,
   "id": "cdcea51e",
   "metadata": {
    "ExecuteTime": {
     "end_time": "2024-03-04T01:08:34.276834200Z",
     "start_time": "2024-03-04T01:08:31.558706900Z"
    }
   },
   "outputs": [],
   "source": [
    "import pandas as pd\n",
    "import numpy as np\n",
    "import torch\n",
    "import torch.nn as nn\n",
    "from tqdm import tqdm"
   ]
  },
  {
   "cell_type": "markdown",
   "id": "18198d87",
   "metadata": {},
   "source": [
    "Load in and merge weather data"
   ]
  },
  {
   "cell_type": "code",
   "execution_count": 2,
   "id": "9d64e491",
   "metadata": {
    "ExecuteTime": {
     "end_time": "2024-03-04T01:08:34.359191700Z",
     "start_time": "2024-03-04T01:08:34.276834200Z"
    }
   },
   "outputs": [],
   "source": [
    "# Load in Weather and IGS data\n",
    "igs_data = pd.read_csv(\"updated_igs_data.csv\", index_col = 0)\n",
    "hourly_weather = pd.read_csv(\"houston_hourly_weather_data.csv\")\n",
    "\n",
    "# Merge Data\n",
    "hourly_weather[\"datetime\"] = pd.to_datetime(hourly_weather[\"datetime\"])\n",
    "igs_data[\"LOCAL_FROM_DATETIME\"] = pd.to_datetime(igs_data[\"LOCAL_FROM_DATETIME\"])\n",
    "price_df = igs_data.merge(hourly_weather, how = \"left\", left_on = \"LOCAL_FROM_DATETIME\", right_on = \"datetime\")"
   ]
  },
  {
   "cell_type": "markdown",
   "id": "6545792c",
   "metadata": {},
   "source": [
    "Clean Merged Data"
   ]
  },
  {
   "cell_type": "code",
   "execution_count": 3,
   "id": "35c3f1030c37946",
   "metadata": {
    "collapsed": false,
    "ExecuteTime": {
     "end_time": "2024-03-04T01:08:34.390858200Z",
     "start_time": "2024-03-04T01:08:34.369191100Z"
    }
   },
   "outputs": [],
   "source": [
    "# Rename and Add Columns\n",
    "price_df.rename(columns = {\"Delivery Date\":\"DateTime\"}, inplace = True)\n",
    "price_df[\"Month_Int\"] = price_df[\"LOCAL_FROM_DATETIME\"].apply(lambda d: d.month)\n",
    "\n",
    "#Replace 'Settlement Point Price' with the actual column name from your CSV if it's different.\n",
    "price_df['Settlement_Point_Price'] = pd.to_numeric(price_df['Settlement Point Price'], errors='coerce')\n",
    "price_df['QUANTITY'] = pd.to_numeric(price_df['QUANTITY'], errors='coerce')\n",
    "\n",
    "# Set 'DateTime' as the index\n",
    "price_df.set_index('DateTime', inplace=True)\n",
    "\n",
    "# Sort the DataFrame by DateTime to ensure it is in chronological order\n",
    "price_df.sort_index(inplace=True)\n",
    "\n",
    "price_df = price_df[price_df[\"ACCOUNT_NUMBER\"] == \"account_a\"]\n",
    "\n",
    "# Prices are the same for each account, so we can take prices from a single account"
   ]
  },
  {
   "cell_type": "code",
   "execution_count": 4,
   "id": "474a42c3-b0fd-42f6-bdde-20b1b37bd910",
   "metadata": {
    "ExecuteTime": {
     "end_time": "2024-03-04T01:08:34.398932900Z",
     "start_time": "2024-03-04T01:08:34.389857700Z"
    }
   },
   "outputs": [],
   "source": [
    " #, #, \"Hour\", \"Holiday\", \"Day\", \"Weekend\", \"temp\"]]\n",
    "important_vars = [\"Settlement_Point_Price\", \"Month_Int\", \"temp\", \"Hour\"]\n",
    "\n",
    "# Days of the month greater than or equal to 25\n",
    "val_data = price_df[price_df[\"Day\"] >= 25]\n",
    "val_data = val_data[important_vars].astype(float)\n",
    "val_data = val_data.dropna()\n",
    "\n",
    "# Days of the month between 3 and 25 exclusively\n",
    "train_data = price_df[(price_df[\"Day\"] > 3) & (price_df[\"Day\"] < 25)]\n",
    "train_data = train_data[important_vars].astype(float)\n",
    "train_data = train_data.dropna()"
   ]
  },
  {
   "cell_type": "markdown",
   "id": "cb78f9c0",
   "metadata": {},
   "source": [
    "Function to create sequences of data"
   ]
  },
  {
   "cell_type": "code",
   "execution_count": 5,
   "id": "4e39ea67",
   "metadata": {
    "ExecuteTime": {
     "end_time": "2024-03-04T01:08:34.406136900Z",
     "start_time": "2024-03-04T01:08:34.399931900Z"
    }
   },
   "outputs": [],
   "source": [
    "def create_sequences(data, seq_length):\n",
    "    xs = []\n",
    "    ys = []\n",
    "\n",
    "    # Create Rolling Windows\n",
    "    for i in range(len(data) - seq_length):\n",
    "        xs.append(data.iloc[i:(i + seq_length)])\n",
    "        ys.append(data.iloc[i + seq_length])\n",
    "\n",
    "    # Torch Arrays\n",
    "    xs = torch.tensor(np.array(xs), dtype=torch.float32)\n",
    "    ys = torch.tensor(np.array(ys), dtype=torch.float32)\n",
    "    \n",
    "    # Only need price for Y\n",
    "    ys = ys[:,:1]\n",
    "    \n",
    "    return xs, ys"
   ]
  },
  {
   "cell_type": "markdown",
   "id": "11fd2f5a",
   "metadata": {},
   "source": [
    "Our LSTM Model Architecture:"
   ]
  },
  {
   "cell_type": "code",
   "execution_count": 6,
   "id": "c2af7d1f",
   "metadata": {
    "ExecuteTime": {
     "end_time": "2024-03-04T01:08:34.452723100Z",
     "start_time": "2024-03-04T01:08:34.405137600Z"
    }
   },
   "outputs": [],
   "source": [
    "# Create Device\n",
    "device = torch.device(\"cuda\" if torch.cuda.is_available() else \"cpu\")\n",
    "\n",
    "class CustomLSTM(nn.Module):\n",
    "    def __init__(self, lstm_input_size, hidden_size, num_layers, output_size, aux_input_size = None, aux_hidden_size = None):\n",
    "        super(CustomLSTM, self).__init__()\n",
    "\n",
    "        # LSTM Layer\n",
    "        self.hidden_size = hidden_size\n",
    "        self.num_layers = num_layers\n",
    "        self.lstm = nn.LSTM(lstm_input_size, hidden_size, num_layers, batch_first=True)\n",
    "        \n",
    "        # Linear layer code:\n",
    "        #self.aux_lin = torch.nn.Linear(aux_input_size, aux_hidden_size)\n",
    "\n",
    "        ## Join Layer\n",
    "        self.fc = nn.Linear(hidden_size, output_size)\n",
    "\n",
    "    def forward(self, x_time):\n",
    "\n",
    "        h_0 = torch.zeros(self.num_layers, x_time.size(0), self.hidden_size).to(device)\n",
    "        c_0 = torch.zeros(self.num_layers, x_time.size(0), self.hidden_size).to(device)\n",
    "\n",
    "        # LSTM Output\n",
    "        out, _ = self.lstm(x_time, (h_0, c_0))\n",
    "\n",
    "        # Transform into output\n",
    "        out = self.fc(out[:, -1, :])\n",
    "\n",
    "        return out"
   ]
  },
  {
   "cell_type": "markdown",
   "id": "3a3b87eb",
   "metadata": {},
   "source": [
    "Dataset Initialization"
   ]
  },
  {
   "cell_type": "code",
   "execution_count": 7,
   "id": "794725de",
   "metadata": {
    "ExecuteTime": {
     "end_time": "2024-03-04T01:08:34.845322200Z",
     "start_time": "2024-03-04T01:08:34.454724100Z"
    }
   },
   "outputs": [],
   "source": [
    "# Create Sequences to look at past three days of data. (Arbitrary selection)\n",
    "seq_length = 4\n",
    "\n",
    "# Train Test Splits\n",
    "X_train, Y_train = create_sequences(train_data, seq_length)\n",
    "X_test, Y_test = create_sequences(val_data, seq_length)\n",
    "\n",
    "# We throw out the first three days of every month because they would capture \n",
    "# information about the validation data, and we don't want this, so we remove them"
   ]
  },
  {
   "cell_type": "markdown",
   "id": "1dceb360",
   "metadata": {},
   "source": [
    "Model Initalization:"
   ]
  },
  {
   "cell_type": "code",
   "execution_count": 8,
   "id": "82a480f1",
   "metadata": {
    "ExecuteTime": {
     "end_time": "2024-03-04T01:08:36.795083500Z",
     "start_time": "2024-03-04T01:08:34.848325700Z"
    }
   },
   "outputs": [],
   "source": [
    "# Hyperparameters\n",
    "input_size = X_train.shape[-1]  # Number of lstm input features\n",
    "hidden_size = 30  # Number of features in hidden state\n",
    "num_layers = 1  # Number of stacked LSTM layers\n",
    "output_size = 1  # Number of output values\n",
    "num_epochs = 20000\n",
    "learning_rate = 0.01\n",
    "\n",
    "# Initialize Model\n",
    "model = CustomLSTM(input_size, hidden_size, num_layers, output_size)\n",
    "model = model.to(device)\n",
    "\n",
    "# Set up loss and optimizer\n",
    "criterion = torch.nn.MSELoss(reduction = \"mean\")\n",
    "optimizer = torch.optim.Adam(model.parameters(), lr=learning_rate)"
   ]
  },
  {
   "cell_type": "markdown",
   "id": "13a29343",
   "metadata": {},
   "source": [
    "This is the training loop"
   ]
  },
  {
   "cell_type": "code",
   "execution_count": 9,
   "id": "f84908f8",
   "metadata": {
    "ExecuteTime": {
     "end_time": "2024-03-04T01:09:36.933563600Z",
     "start_time": "2024-03-04T01:08:36.799084700Z"
    }
   },
   "outputs": [
    {
     "name": "stderr",
     "output_type": "stream",
     "text": [
      "  5%|▌         | 1041/20000 [00:03<01:07, 281.42it/s]"
     ]
    },
    {
     "name": "stdout",
     "output_type": "stream",
     "text": [
      "Epoch 1000, Train Loss: 5.5716314682044885, Val Loss: 48.313216004609544\n"
     ]
    },
    {
     "name": "stderr",
     "output_type": "stream",
     "text": [
      " 10%|█         | 2042/20000 [00:07<01:00, 298.60it/s]"
     ]
    },
    {
     "name": "stdout",
     "output_type": "stream",
     "text": [
      "Epoch 2000, Train Loss: 4.693353530236908, Val Loss: 43.01492170553146\n"
     ]
    },
    {
     "name": "stderr",
     "output_type": "stream",
     "text": [
      " 15%|█▌        | 3047/20000 [00:10<00:54, 313.22it/s]"
     ]
    },
    {
     "name": "stdout",
     "output_type": "stream",
     "text": [
      "Epoch 3000, Train Loss: 4.058352491167914, Val Loss: 39.70178196176789\n"
     ]
    },
    {
     "name": "stderr",
     "output_type": "stream",
     "text": [
      " 20%|██        | 4047/20000 [00:13<00:49, 323.85it/s]"
     ]
    },
    {
     "name": "stdout",
     "output_type": "stream",
     "text": [
      "Epoch 4000, Train Loss: 3.3710982959268496, Val Loss: 35.42549739018438\n"
     ]
    },
    {
     "name": "stderr",
     "output_type": "stream",
     "text": [
      " 25%|██▌       | 5040/20000 [00:16<00:46, 324.23it/s]"
     ]
    },
    {
     "name": "stdout",
     "output_type": "stream",
     "text": [
      "Epoch 5000, Train Loss: 2.928326969035744, Val Loss: 32.59003863882863\n"
     ]
    },
    {
     "name": "stderr",
     "output_type": "stream",
     "text": [
      " 30%|███       | 6041/20000 [00:19<00:42, 330.48it/s]"
     ]
    },
    {
     "name": "stdout",
     "output_type": "stream",
     "text": [
      "Epoch 6000, Train Loss: 2.7907600789692437, Val Loss: 34.1890548739154\n"
     ]
    },
    {
     "name": "stderr",
     "output_type": "stream",
     "text": [
      " 35%|███▌      | 7071/20000 [00:23<00:38, 336.62it/s]"
     ]
    },
    {
     "name": "stdout",
     "output_type": "stream",
     "text": [
      "Epoch 7000, Train Loss: 2.8389579436824603, Val Loss: 31.266874830531453\n"
     ]
    },
    {
     "name": "stderr",
     "output_type": "stream",
     "text": [
      " 40%|████      | 8059/20000 [00:25<00:33, 353.38it/s]"
     ]
    },
    {
     "name": "stdout",
     "output_type": "stream",
     "text": [
      "Epoch 8000, Train Loss: 2.4165259052888612, Val Loss: 30.413751101545554\n"
     ]
    },
    {
     "name": "stderr",
     "output_type": "stream",
     "text": [
      " 45%|████▌     | 9035/20000 [00:28<00:30, 355.39it/s]"
     ]
    },
    {
     "name": "stdout",
     "output_type": "stream",
     "text": [
      "Epoch 9000, Train Loss: 2.5828965996467166, Val Loss: 30.644327887744033\n"
     ]
    },
    {
     "name": "stderr",
     "output_type": "stream",
     "text": [
      " 50%|█████     | 10049/20000 [00:31<00:27, 356.19it/s]"
     ]
    },
    {
     "name": "stdout",
     "output_type": "stream",
     "text": [
      "Epoch 10000, Train Loss: 2.301335366012053, Val Loss: 30.007651504880695\n"
     ]
    },
    {
     "name": "stderr",
     "output_type": "stream",
     "text": [
      " 55%|█████▌    | 11061/20000 [00:34<00:25, 356.59it/s]"
     ]
    },
    {
     "name": "stdout",
     "output_type": "stream",
     "text": [
      "Epoch 11000, Train Loss: 2.1386426511845387, Val Loss: 30.38319592258677\n"
     ]
    },
    {
     "name": "stderr",
     "output_type": "stream",
     "text": [
      " 60%|██████    | 12063/20000 [00:37<00:22, 351.73it/s]"
     ]
    },
    {
     "name": "stdout",
     "output_type": "stream",
     "text": [
      "Epoch 12000, Train Loss: 2.1184442864193684, Val Loss: 29.69911918722885\n"
     ]
    },
    {
     "name": "stderr",
     "output_type": "stream",
     "text": [
      " 65%|██████▌   | 13064/20000 [00:40<00:19, 350.75it/s]"
     ]
    },
    {
     "name": "stdout",
     "output_type": "stream",
     "text": [
      "Epoch 13000, Train Loss: 2.559314928823774, Val Loss: 26.82380355206074\n"
     ]
    },
    {
     "name": "stderr",
     "output_type": "stream",
     "text": [
      " 70%|███████   | 14066/20000 [00:43<00:17, 340.20it/s]"
     ]
    },
    {
     "name": "stdout",
     "output_type": "stream",
     "text": [
      "Epoch 14000, Train Loss: 1.9621351893703243, Val Loss: 27.19197608798807\n"
     ]
    },
    {
     "name": "stderr",
     "output_type": "stream",
     "text": [
      " 75%|███████▌  | 15036/20000 [00:45<00:14, 352.63it/s]"
     ]
    },
    {
     "name": "stdout",
     "output_type": "stream",
     "text": [
      "Epoch 15000, Train Loss: 2.0806129208229427, Val Loss: 27.415433076870933\n"
     ]
    },
    {
     "name": "stderr",
     "output_type": "stream",
     "text": [
      " 80%|████████  | 16058/20000 [00:48<00:11, 357.44it/s]"
     ]
    },
    {
     "name": "stdout",
     "output_type": "stream",
     "text": [
      "Epoch 16000, Train Loss: 1.93913880662926, Val Loss: 26.887394505829718\n"
     ]
    },
    {
     "name": "stderr",
     "output_type": "stream",
     "text": [
      " 85%|████████▌ | 17078/20000 [00:51<00:08, 358.13it/s]"
     ]
    },
    {
     "name": "stdout",
     "output_type": "stream",
     "text": [
      "Epoch 17000, Train Loss: 1.9967061512884456, Val Loss: 26.33954506168655\n"
     ]
    },
    {
     "name": "stderr",
     "output_type": "stream",
     "text": [
      " 90%|█████████ | 18062/20000 [00:54<00:05, 352.79it/s]"
     ]
    },
    {
     "name": "stdout",
     "output_type": "stream",
     "text": [
      "Epoch 18000, Train Loss: 1.8548138118246051, Val Loss: 27.05621907199024\n"
     ]
    },
    {
     "name": "stderr",
     "output_type": "stream",
     "text": [
      " 95%|█████████▌| 19070/20000 [00:57<00:02, 353.09it/s]"
     ]
    },
    {
     "name": "stdout",
     "output_type": "stream",
     "text": [
      "Epoch 19000, Train Loss: 2.4052112557148795, Val Loss: 28.139430246746205\n"
     ]
    },
    {
     "name": "stderr",
     "output_type": "stream",
     "text": [
      "100%|██████████| 20000/20000 [01:00<00:00, 332.66it/s]"
     ]
    },
    {
     "name": "stdout",
     "output_type": "stream",
     "text": [
      "Epoch 20000, Train Loss: 2.3655462580527846, Val Loss: 27.443363611713664\n"
     ]
    },
    {
     "name": "stderr",
     "output_type": "stream",
     "text": [
      "\n"
     ]
    }
   ],
   "source": [
    "train_loss_log = []\n",
    "val_loss_log = []\n",
    "\n",
    "for epoch in tqdm(range(num_epochs)):\n",
    "    model.train()\n",
    "    optimizer.zero_grad()\n",
    "    \n",
    "    # Forward pass\n",
    "    output = model(X_train.to(device))\n",
    "    loss = criterion(output.view(-1), Y_train.to(device).view(-1))\n",
    "    \n",
    "    # Backward pass and optimization\n",
    "    loss.backward()\n",
    "    optimizer.step()\n",
    "    train_loss_log.append(loss.item() / len(X_train))\n",
    "\n",
    "    # Validation Loss:\n",
    "    model.eval()\n",
    "    with torch.no_grad():\n",
    "        Y_Test_pred = model(X_test.to(device))\n",
    "        val_loss = criterion(Y_Test_pred.view(-1), Y_test.to(device).view(-1))\n",
    "        val_loss_log.append(val_loss.item() / len(X_test))\n",
    "        \n",
    "    if (epoch+1) % 1000 == 0:\n",
    "        train_loss_norm = loss.item() / len(X_train)\n",
    "        val_loss_norm = val_loss.item() / len(X_test)\n",
    "        print(f'Epoch {epoch+1}, Train Loss: {train_loss_norm}, Val Loss: {val_loss_norm}')"
   ]
  },
  {
   "cell_type": "markdown",
   "id": "73f0c63c",
   "metadata": {},
   "source": [
    "Plot the Learning Curves"
   ]
  },
  {
   "cell_type": "code",
   "execution_count": 10,
   "id": "bf9ae7b9",
   "metadata": {
    "ExecuteTime": {
     "end_time": "2024-03-04T01:09:37.161432800Z",
     "start_time": "2024-03-04T01:09:36.930565400Z"
    }
   },
   "outputs": [
    {
     "data": {
      "text/plain": "Text(0.5, 1.0, 'Price LSTM Training Curves')"
     },
     "execution_count": 10,
     "metadata": {},
     "output_type": "execute_result"
    },
    {
     "data": {
      "text/plain": "<Figure size 640x480 with 1 Axes>",
      "image/png": "[encoded data removed]"
     },
     "metadata": {},
     "output_type": "display_data"
    }
   ],
   "source": [
    "import matplotlib.pyplot as plt\n",
    "\n",
    "plt.plot(train_loss_log, label = \"Training Loss\")\n",
    "plt.plot(val_loss_log, label = \"Val Loss\")\n",
    "plt.legend()\n",
    "plt.xlabel(\"Epoch\")\n",
    "plt.ylabel(\"Loss\")\n",
    "plt.title(\"Price LSTM Training Curves\")"
   ]
  },
  {
   "cell_type": "markdown",
   "id": "7eaed6aa",
   "metadata": {},
   "source": [
    "Plot Predictions"
   ]
  },
  {
   "cell_type": "code",
   "execution_count": 11,
   "id": "a245ecaa7254f385",
   "metadata": {
    "collapsed": false,
    "ExecuteTime": {
     "end_time": "2024-03-04T01:09:37.334015700Z",
     "start_time": "2024-03-04T01:09:37.163433600Z"
    }
   },
   "outputs": [
    {
     "name": "stdout",
     "output_type": "stream",
     "text": [
      "Test RMSE: 224.956801408626\n"
     ]
    },
    {
     "data": {
      "text/plain": "<Figure size 1500x500 with 1 Axes>",
      "image/png": "[encoded data removed]"
     },
     "metadata": {},
     "output_type": "display_data"
    }
   ],
   "source": [
    "model.eval()\n",
    "with torch.no_grad():\n",
    "    Y_test_pred = model(X_test.to(device))\n",
    "    \n",
    "# y_test_pred = y_test_pred.cpu().numpy()\n",
    "# y_test = y_test.to.numpy()\n",
    "\n",
    "# Calculate RMSE\n",
    "rmse = np.sqrt(criterion(Y_test.to(device), Y_test_pred).item())\n",
    "print(f'Test RMSE: {rmse}')\n",
    "\n",
    "plt.figure(figsize=(15, 5))\n",
    "plt.plot(Y_test.cpu(), label='Actual Price')\n",
    "plt.plot(Y_test_pred.cpu(), label='Predicted Price')\n",
    "plt.title('Electricity Price Prediction Validation')\n",
    "plt.xlabel('Time (Not Real Time)')\n",
    "plt.ylabel('Price')\n",
    "plt.legend()\n",
    "plt.show()"
   ]
  },
  {
   "cell_type": "code",
   "execution_count": 12,
   "id": "3d1dc211-e324-46d9-ac90-2eb8212ccb04",
   "metadata": {
    "ExecuteTime": {
     "end_time": "2024-03-04T01:09:37.340302900Z",
     "start_time": "2024-03-04T01:09:37.336025300Z"
    }
   },
   "outputs": [
    {
     "data": {
      "text/plain": "47.990284890253115"
     },
     "execution_count": 12,
     "metadata": {},
     "output_type": "execute_result"
    }
   ],
   "source": [
    "np.sqrt((criterion(Y_test.to(device)[:1000], Y_test_pred[:1000]).item() + criterion(Y_test.to(device)[1250:], Y_test_pred[1250:]).item()) / 2) "
   ]
  },
  {
   "cell_type": "markdown",
   "id": "d78fb92f",
   "metadata": {},
   "source": [
    "Potential future assessments:\n",
    "\n",
    "1. Plot fitted values when using the feature vector in LSTM"
   ]
  },
  {
   "cell_type": "code",
   "outputs": [
    {
     "name": "stdout",
     "output_type": "stream",
     "text": [
      "Predictions with datetime saved to price_predictions_with_datetime_weather.csv\n"
     ]
    }
   ],
   "source": [
    "import pandas as pd\n",
    "\n",
    "# Create a pandas DataFrame including the datetime, actual prices, and predicted prices\n",
    "df_predictions_with_date = pd.DataFrame({\n",
    "    'datetime': val_data.index[seq_length:],\n",
    "    'actual_price': Y_test.cpu().numpy().flatten(),\n",
    "    'predicted_price': Y_test_pred.cpu().numpy().flatten()\n",
    "})\n",
    "\n",
    "# Now, save this DataFrame to a CSV file\n",
    "csv_file_path = 'price_predictions_with_datetime_weather.csv'  # Specify your desired file path and name\n",
    "df_predictions_with_date.to_csv(csv_file_path, index=False)  # Save the DataFrame without the index\n",
    "\n",
    "print(f\"Predictions with datetime saved to {csv_file_path}\")"
   ],
   "metadata": {
    "collapsed": false,
    "ExecuteTime": {
     "end_time": "2024-03-04T01:50:16.599936900Z",
     "start_time": "2024-03-04T01:50:16.584496600Z"
    }
   },
   "id": "61e6c2d0205ebda9",
   "execution_count": 13
  }
 ],
 "metadata": {
  "kernelspec": {
   "display_name": "Python 3 (ipykernel)",
   "language": "python",
   "name": "python3"
  },
  "language_info": {
   "codemirror_mode": {
    "name": "ipython",
    "version": 3
   },
   "file_extension": ".py",
   "mimetype": "text/x-python",
   "name": "python",
   "nbconvert_exporter": "python",
   "pygments_lexer": "ipython3",
   "version": "3.10.12"
  }
 },
 "nbformat": 4,
 "nbformat_minor": 5
}
