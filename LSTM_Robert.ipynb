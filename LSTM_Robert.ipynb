{
 "cells": [
  {
   "cell_type": "markdown",
   "id": "e0042f777dfe1ca0",
   "metadata": {
    "collapsed": false
   },
   "source": [
    "# Predict Price with Weather data"
   ]
  },
  {
   "cell_type": "markdown",
   "id": "f933b7f0",
   "metadata": {},
   "source": [
    "Import Related Libraries"
   ]
  },
  {
   "cell_type": "code",
   "execution_count": 159,
   "id": "cdcea51e",
   "metadata": {},
   "outputs": [],
   "source": [
    "import pandas as pd\n",
    "import numpy as np\n",
    "import torch\n",
    "import torch.nn as nn\n",
    "from tqdm import tqdm"
   ]
  },
  {
   "cell_type": "markdown",
   "id": "18198d87",
   "metadata": {},
   "source": [
    "Load in and merge weather data"
   ]
  },
  {
   "cell_type": "code",
   "execution_count": 210,
   "id": "9d64e491",
   "metadata": {},
   "outputs": [],
   "source": [
    "# Load in Weather and IGS data\n",
    "igs_data = pd.read_csv(\"updated_igs_data.csv\", index_col = 0)\n",
    "hourly_weather = pd.read_csv(\"houston_hourly_weather_data.csv\")\n",
    "\n",
    "# Merge Data\n",
    "hourly_weather[\"datetime\"] = pd.to_datetime(hourly_weather[\"datetime\"])\n",
    "igs_data[\"LOCAL_FROM_DATETIME\"] = pd.to_datetime(igs_data[\"LOCAL_FROM_DATETIME\"])\n",
    "price_df = igs_data.merge(hourly_weather, how = \"left\", left_on = \"LOCAL_FROM_DATETIME\", right_on = \"datetime\")"
   ]
  },
  {
   "cell_type": "markdown",
   "id": "6545792c",
   "metadata": {},
   "source": [
    "Clean Merged Data"
   ]
  },
  {
   "cell_type": "code",
   "execution_count": 211,
   "id": "35c3f1030c37946",
   "metadata": {
    "collapsed": false,
    "jupyter": {
     "outputs_hidden": false
    }
   },
   "outputs": [],
   "source": [
    "\n",
    "# Rename and Add Columns\n",
    "price_df.rename(columns = {\"Delivery Date\":\"DateTime\"}, inplace = True)\n",
    "price_df[\"Month_Int\"] = price_df[\"LOCAL_FROM_DATETIME\"].apply(lambda d: d.month)\n",
    "\n",
    "#Replace 'Settlement Point Price' with the actual column name from your CSV if it's different.\n",
    "price_df['Settlement_Point_Price'] = pd.to_numeric(price_df['Settlement Point Price'], errors='coerce')\n",
    "price_df['QUANTITY'] = pd.to_numeric(price_df['QUANTITY'], errors='coerce')\n",
    "\n",
    "# Set 'DateTime' as the index\n",
    "price_df.set_index('DateTime', inplace=True)\n",
    "\n",
    "# Sort the DataFrame by DateTime to ensure it is in chronological order\n",
    "price_df.sort_index(inplace=True)\n",
    "\n",
    "price_df = price_df[price_df[\"ACCOUNT_NUMBER\"] == \"account_a\"]\n",
    "\n",
    "# Prices are the same for each account so we can take prices from a single account\n",
    "\n"
   ]
  },
  {
   "cell_type": "code",
   "execution_count": 212,
   "id": "474a42c3-b0fd-42f6-bdde-20b1b37bd910",
   "metadata": {},
   "outputs": [],
   "source": [
    " #, #, \"Hour\", \"Holiday\", \"Day\", \"Weekend\", \"temp\"]]\n",
    "important_vars = [\"Settlement_Point_Price\", \"Month_Int\", \"temp\", \"Hour\"]\n",
    "\n",
    "# Days of the month greater than or equal to 25\n",
    "val_data = price_df[price_df[\"Day\"] >= 25]\n",
    "val_data = val_data[important_vars].astype(float)\n",
    "val_data = val_data.dropna()\n",
    "\n",
    "# Days of the month between 3 and 25 exclusively\n",
    "train_data = price_df[(price_df[\"Day\"] > 3) & (price_df[\"Day\"] < 25)]\n",
    "train_data = train_data[important_vars].astype(float)\n",
    "train_data = train_data.dropna()"
   ]
  },
  {
   "cell_type": "markdown",
   "id": "cb78f9c0",
   "metadata": {},
   "source": [
    "Function to create sequences of data"
   ]
  },
  {
   "cell_type": "code",
   "execution_count": 213,
   "id": "4e39ea67",
   "metadata": {},
   "outputs": [],
   "source": [
    "def create_sequences(data, seq_length):\n",
    "    xs = []\n",
    "    ys = []\n",
    "\n",
    "    # Create Rolling Windows\n",
    "    for i in range(len(data) - seq_length):\n",
    "        xs.append(data.iloc[i:(i + seq_length)])\n",
    "        ys.append(data.iloc[i + seq_length])\n",
    "\n",
    "    # Torch Arrays\n",
    "    xs = torch.tensor(np.array(xs), dtype=torch.float32)\n",
    "    ys = torch.tensor(np.array(ys), dtype=torch.float32)\n",
    "    \n",
    "    # Only need price for Y\n",
    "    ys = ys[:,:1]\n",
    "    \n",
    "    return xs, ys"
   ]
  },
  {
   "cell_type": "markdown",
   "id": "11fd2f5a",
   "metadata": {},
   "source": [
    "Our LSTM Model Architecture:"
   ]
  },
  {
   "cell_type": "code",
   "execution_count": 214,
   "id": "c2af7d1f",
   "metadata": {},
   "outputs": [],
   "source": [
    "# Create Device\n",
    "device = torch.device(\"cuda\" if torch.cuda.is_available() else \"cpu\")\n",
    "\n",
    "class CustomLSTM(nn.Module):\n",
    "    def __init__(self, lstm_input_size, hidden_size, num_layers, output_size, aux_input_size = None, aux_hidden_size = None):\n",
    "        super(CustomLSTM, self).__init__()\n",
    "\n",
    "        # LSTM Layer\n",
    "        self.hidden_size = hidden_size\n",
    "        self.num_layers = num_layers\n",
    "        self.lstm = nn.LSTM(lstm_input_size, hidden_size, num_layers, batch_first=True)\n",
    "        \n",
    "        # Linear layer code:\n",
    "        #self.aux_lin = torch.nn.Linear(aux_input_size, aux_hidden_size)\n",
    "\n",
    "        ## Join Layer\n",
    "        self.fc = nn.Linear(hidden_size, output_size)\n",
    "\n",
    "    def forward(self, x_time):\n",
    "\n",
    "        h_0 = torch.zeros(self.num_layers, x_time.size(0), self.hidden_size).to(device)\n",
    "        c_0 = torch.zeros(self.num_layers, x_time.size(0), self.hidden_size).to(device)\n",
    "\n",
    "        # LSTM Output\n",
    "        out, _ = self.lstm(x_time, (h_0, c_0))\n",
    "\n",
    "        # Transform into output\n",
    "        out = self.fc(out[:, -1, :])\n",
    "\n",
    "        return out"
   ]
  },
  {
   "cell_type": "markdown",
   "id": "3a3b87eb",
   "metadata": {},
   "source": [
    "Dataset Initialization"
   ]
  },
  {
   "cell_type": "code",
   "execution_count": 215,
   "id": "794725de",
   "metadata": {},
   "outputs": [],
   "source": [
    "# Create Sequences to look at past three days of data. (Arbitrary selection)\n",
    "seq_length = 4\n",
    "\n",
    "# Train Test Splits\n",
    "X_train, Y_train = create_sequences(train_data, seq_length)\n",
    "X_test, Y_test = create_sequences(val_data, seq_length)\n",
    "\n",
    "# We throw out the first three days of every month becuase they would capture \n",
    "# information about the validation data and we don't want this so we remove them"
   ]
  },
  {
   "cell_type": "markdown",
   "id": "1dceb360",
   "metadata": {},
   "source": [
    "Model Initalization:"
   ]
  },
  {
   "cell_type": "code",
   "execution_count": 216,
   "id": "82a480f1",
   "metadata": {},
   "outputs": [],
   "source": [
    "# Hyperparameters\n",
    "input_size = X_train.shape[-1]  # Number of lstm input features\n",
    "hidden_size = 30  # Number of features in hidden state\n",
    "num_layers = 1  # Number of stacked LSTM layers\n",
    "output_size = 1  # Number of output values\n",
    "num_epochs = 20000\n",
    "learning_rate = 0.01\n",
    "\n",
    "# Initalize Model\n",
    "model = CustomLSTM(input_size, hidden_size, num_layers, output_size)\n",
    "model = model.to(device)\n",
    "\n",
    "# Set up loss and optimizer\n",
    "criterion = torch.nn.MSELoss(reduction = \"mean\")\n",
    "optimizer = torch.optim.Adam(model.parameters(), lr=learning_rate)"
   ]
  },
  {
   "cell_type": "markdown",
   "id": "13a29343",
   "metadata": {},
   "source": [
    "This is the training loop"
   ]
  },
  {
   "cell_type": "code",
   "execution_count": 217,
   "id": "f84908f8",
   "metadata": {},
   "outputs": [
    {
     "name": "stderr",
     "output_type": "stream",
     "text": [
      "  5%|▌         | 1099/20000 [00:02<00:34, 540.35it/s]"
     ]
    },
    {
     "name": "stdout",
     "output_type": "stream",
     "text": [
      "Epoch 1000, Train Loss: 5.566646534704905, Val Loss: 47.73459107239697\n"
     ]
    },
    {
     "name": "stderr",
     "output_type": "stream",
     "text": [
      " 10%|█         | 2080/20000 [00:03<00:33, 539.54it/s]"
     ]
    },
    {
     "name": "stdout",
     "output_type": "stream",
     "text": [
      "Epoch 2000, Train Loss: 4.8123746623025765, Val Loss: 43.13036791621475\n"
     ]
    },
    {
     "name": "stderr",
     "output_type": "stream",
     "text": [
      " 15%|█▌        | 3058/20000 [00:05<00:31, 537.16it/s]"
     ]
    },
    {
     "name": "stdout",
     "output_type": "stream",
     "text": [
      "Epoch 3000, Train Loss: 4.19730848659601, Val Loss: 38.93058568329718\n"
     ]
    },
    {
     "name": "stderr",
     "output_type": "stream",
     "text": [
      " 20%|██        | 4091/20000 [00:07<00:29, 539.43it/s]"
     ]
    },
    {
     "name": "stdout",
     "output_type": "stream",
     "text": [
      "Epoch 4000, Train Loss: 3.5849026522236076, Val Loss: 36.11636981426247\n"
     ]
    },
    {
     "name": "stderr",
     "output_type": "stream",
     "text": [
      " 25%|██▌       | 5068/20000 [00:09<00:27, 539.40it/s]"
     ]
    },
    {
     "name": "stdout",
     "output_type": "stream",
     "text": [
      "Epoch 5000, Train Loss: 3.0914017040731503, Val Loss: 33.20297883337852\n"
     ]
    },
    {
     "name": "stderr",
     "output_type": "stream",
     "text": [
      " 30%|███       | 6098/20000 [00:11<00:25, 538.40it/s]"
     ]
    },
    {
     "name": "stdout",
     "output_type": "stream",
     "text": [
      "Epoch 6000, Train Loss: 2.986866817331671, Val Loss: 32.39026911605206\n"
     ]
    },
    {
     "name": "stderr",
     "output_type": "stream",
     "text": [
      " 35%|███▌      | 7085/20000 [00:13<00:23, 539.39it/s]"
     ]
    },
    {
     "name": "stdout",
     "output_type": "stream",
     "text": [
      "Epoch 7000, Train Loss: 2.65875577982128, Val Loss: 30.158340818194144\n"
     ]
    },
    {
     "name": "stderr",
     "output_type": "stream",
     "text": [
      " 40%|████      | 8069/20000 [00:14<00:21, 545.17it/s]"
     ]
    },
    {
     "name": "stdout",
     "output_type": "stream",
     "text": [
      "Epoch 8000, Train Loss: 2.721540062603907, Val Loss: 29.18685813787961\n"
     ]
    },
    {
     "name": "stderr",
     "output_type": "stream",
     "text": [
      " 45%|████▌     | 9059/20000 [00:16<00:20, 546.45it/s]"
     ]
    },
    {
     "name": "stdout",
     "output_type": "stream",
     "text": [
      "Epoch 9000, Train Loss: 2.485102023586866, Val Loss: 28.761256948210413\n"
     ]
    },
    {
     "name": "stderr",
     "output_type": "stream",
     "text": [
      " 51%|█████     | 10104/20000 [00:18<00:18, 546.18it/s]"
     ]
    },
    {
     "name": "stdout",
     "output_type": "stream",
     "text": [
      "Epoch 10000, Train Loss: 2.415016008156692, Val Loss: 28.45832768438178\n"
     ]
    },
    {
     "name": "stderr",
     "output_type": "stream",
     "text": [
      " 55%|█████▌    | 11094/20000 [00:20<00:16, 545.09it/s]"
     ]
    },
    {
     "name": "stdout",
     "output_type": "stream",
     "text": [
      "Epoch 11000, Train Loss: 2.4264582683915212, Val Loss: 29.216943041621477\n"
     ]
    },
    {
     "name": "stderr",
     "output_type": "stream",
     "text": [
      " 60%|██████    | 12084/20000 [00:22<00:14, 544.37it/s]"
     ]
    },
    {
     "name": "stdout",
     "output_type": "stream",
     "text": [
      "Epoch 12000, Train Loss: 2.149751272859518, Val Loss: 28.35008812364425\n"
     ]
    },
    {
     "name": "stderr",
     "output_type": "stream",
     "text": [
      " 65%|██████▌   | 13074/20000 [00:24<00:12, 542.92it/s]"
     ]
    },
    {
     "name": "stdout",
     "output_type": "stream",
     "text": [
      "Epoch 13000, Train Loss: 2.112883156691604, Val Loss: 27.568960988340564\n"
     ]
    },
    {
     "name": "stderr",
     "output_type": "stream",
     "text": [
      " 70%|███████   | 14064/20000 [00:25<00:10, 544.44it/s]"
     ]
    },
    {
     "name": "stdout",
     "output_type": "stream",
     "text": [
      "Epoch 14000, Train Loss: 2.398877156068163, Val Loss: 26.711613255829718\n"
     ]
    },
    {
     "name": "stderr",
     "output_type": "stream",
     "text": [
      " 76%|███████▌  | 15109/20000 [00:27<00:08, 544.73it/s]"
     ]
    },
    {
     "name": "stdout",
     "output_type": "stream",
     "text": [
      "Epoch 15000, Train Loss: 2.4995907042290106, Val Loss: 28.30863611713666\n"
     ]
    },
    {
     "name": "stderr",
     "output_type": "stream",
     "text": [
      " 80%|████████  | 16099/20000 [00:29<00:07, 544.82it/s]"
     ]
    },
    {
     "name": "stdout",
     "output_type": "stream",
     "text": [
      "Epoch 16000, Train Loss: 2.23965785406276, Val Loss: 27.380564923400218\n"
     ]
    },
    {
     "name": "stderr",
     "output_type": "stream",
     "text": [
      " 85%|████████▌ | 17089/20000 [00:31<00:05, 545.52it/s]"
     ]
    },
    {
     "name": "stdout",
     "output_type": "stream",
     "text": [
      "Epoch 17000, Train Loss: 2.0830768131753947, Val Loss: 26.94971656385575\n"
     ]
    },
    {
     "name": "stderr",
     "output_type": "stream",
     "text": [
      " 90%|█████████ | 18079/20000 [00:33<00:03, 543.70it/s]"
     ]
    },
    {
     "name": "stdout",
     "output_type": "stream",
     "text": [
      "Epoch 18000, Train Loss: 2.2776613154613465, Val Loss: 25.208668739831886\n"
     ]
    },
    {
     "name": "stderr",
     "output_type": "stream",
     "text": [
      " 95%|█████████▌| 19069/20000 [00:35<00:01, 541.93it/s]"
     ]
    },
    {
     "name": "stdout",
     "output_type": "stream",
     "text": [
      "Epoch 19000, Train Loss: 2.5721771417809642, Val Loss: 28.170529843411064\n"
     ]
    },
    {
     "name": "stderr",
     "output_type": "stream",
     "text": [
      "100%|██████████| 20000/20000 [00:36<00:00, 542.51it/s]"
     ]
    },
    {
     "name": "stdout",
     "output_type": "stream",
     "text": [
      "Epoch 20000, Train Loss: 2.4749501571591854, Val Loss: 28.034107663367678\n"
     ]
    },
    {
     "name": "stderr",
     "output_type": "stream",
     "text": [
      "\n"
     ]
    }
   ],
   "source": [
    "train_loss_log = []\n",
    "val_loss_log = []\n",
    "\n",
    "for epoch in tqdm(range(num_epochs)):\n",
    "    model.train()\n",
    "    optimizer.zero_grad()\n",
    "    \n",
    "    # Forward pass\n",
    "    output = model(X_train.to(device))\n",
    "    loss = criterion(output.view(-1), Y_train.to(device).view(-1))\n",
    "    \n",
    "    # Backward pass and optimization\n",
    "    loss.backward()\n",
    "    optimizer.step()\n",
    "    train_loss_log.append(loss.item() / len(X_train))\n",
    "\n",
    "    # Validation Loss:\n",
    "    model.eval()\n",
    "    with torch.no_grad():\n",
    "        Y_Test_pred = model(X_test.to(device))\n",
    "        val_loss = criterion(Y_Test_pred.view(-1), Y_test.to(device).view(-1))\n",
    "        val_loss_log.append(val_loss.item() / len(X_test))\n",
    "        \n",
    "    if (epoch+1) % 1000 == 0:\n",
    "        train_loss_norm = loss.item() / len(X_train)\n",
    "        val_loss_norm = val_loss.item() / len(X_test)\n",
    "        print(f'Epoch {epoch+1}, Train Loss: {train_loss_norm}, Val Loss: {val_loss_norm}')"
   ]
  },
  {
   "cell_type": "markdown",
   "id": "73f0c63c",
   "metadata": {},
   "source": [
    "Plot the Learning Curves"
   ]
  },
  {
   "cell_type": "code",
   "execution_count": 218,
   "id": "bf9ae7b9",
   "metadata": {},
   "outputs": [
    {
     "data": {
      "text/plain": [
       "Text(0.5, 1.0, 'Price LSTM Training Curves')"
      ]
     },
     "execution_count": 218,
     "metadata": {},
     "output_type": "execute_result"
    },
    {
     "data": {
      "image/png": "[encoded data removed]",
      "text/plain": [
       "<Figure size 432x288 with 1 Axes>"
      ]
     },
     "metadata": {
      "needs_background": "light"
     },
     "output_type": "display_data"
    }
   ],
   "source": [
    "import matplotlib.pyplot as plt\n",
    "\n",
    "plt.plot(train_loss_log, label = \"Training Loss\")\n",
    "plt.plot(val_loss_log, label = \"Val Loss\")\n",
    "plt.legend()\n",
    "plt.xlabel(\"Epoch\")\n",
    "plt.ylabel(\"Loss\")\n",
    "plt.title(\"Price LSTM Training Curves\")"
   ]
  },
  {
   "cell_type": "markdown",
   "id": "7eaed6aa",
   "metadata": {},
   "source": [
    "Plot Predictions"
   ]
  },
  {
   "cell_type": "code",
   "execution_count": 231,
   "id": "a245ecaa7254f385",
   "metadata": {
    "collapsed": false,
    "jupyter": {
     "outputs_hidden": false
    }
   },
   "outputs": [
    {
     "name": "stdout",
     "output_type": "stream",
     "text": [
      "Test RMSE: 227.36511282791386\n"
     ]
    },
    {
     "data": {
      "image/png": "[encoded data removed]",
      "text/plain": [
       "<Figure size 1080x360 with 1 Axes>"
      ]
     },
     "metadata": {
      "needs_background": "light"
     },
     "output_type": "display_data"
    }
   ],
   "source": [
    "model.eval()\n",
    "with torch.no_grad():\n",
    "    Y_test_pred = model(X_test.to(device))\n",
    "    \n",
    "# y_test_pred = y_test_pred.cpu().numpy()\n",
    "# y_test = y_test.to.numpy()\n",
    "\n",
    "# Calculate RMSE\n",
    "rmse = np.sqrt(criterion(Y_test.to(device), Y_test_pred).item())\n",
    "print(f'Test RMSE: {rmse}')\n",
    "\n",
    "plt.figure(figsize=(15, 5))\n",
    "plt.plot(Y_test.cpu(), label='Actual Price')\n",
    "plt.plot(Y_test_pred.cpu(), label='Predicted Price')\n",
    "plt.title('Electricity Price Prediction Validation')\n",
    "plt.xlabel('Time (Not Real Time)')\n",
    "plt.ylabel('Price')\n",
    "plt.legend()\n",
    "plt.show()"
   ]
  },
  {
   "cell_type": "code",
   "execution_count": 229,
   "id": "3d1dc211-e324-46d9-ac90-2eb8212ccb04",
   "metadata": {},
   "outputs": [
    {
     "data": {
      "text/plain": [
       "56.66188394147229"
      ]
     },
     "execution_count": 229,
     "metadata": {},
     "output_type": "execute_result"
    }
   ],
   "source": [
    "np.sqrt((criterion(Y_test.to(device)[:1000], Y_test_pred[:1000]).item() + criterion(Y_test.to(device)[1250:], Y_test_pred[1250:]).item()) / 2) "
   ]
  },
  {
   "cell_type": "markdown",
   "id": "d78fb92f",
   "metadata": {},
   "source": [
    "Potential future assessments:\n",
    "\n",
    "1. Plot fitted values when using the feature vector in LSTM"
   ]
  }
 ],
 "metadata": {
  "kernelspec": {
   "display_name": "Python 3 (ipykernel)",
   "language": "python",
   "name": "python3"
  },
  "language_info": {
   "codemirror_mode": {
    "name": "ipython",
    "version": 3
   },
   "file_extension": ".py",
   "mimetype": "text/x-python",
   "name": "python",
   "nbconvert_exporter": "python",
   "pygments_lexer": "ipython3",
   "version": "3.10.12"
  }
 },
 "nbformat": 4,
 "nbformat_minor": 5
}
