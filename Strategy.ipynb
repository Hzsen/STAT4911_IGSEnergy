{
 "cells": [
  {
   "cell_type": "code",
   "execution_count": null,
   "metadata": {
    "collapsed": true,
    "pycharm": {
     "is_executing": true
    }
   },
   "outputs": [],
   "source": [
    "#load the LSTM model\n",
    "# Assuming the LSTM class is defined in this file as well\n",
    "\n",
    "# Initialize the model with the same parameters as when it was trained\n",
    "loaded_lstm = LSTM(input_size, hidden_size, num_classes, num_layers)\n",
    "\n",
    "# Load the state dictionary\n",
    "loaded_lstm.load_state_dict(torch.load('lstm_model_state_dict.pth'))\n",
    "\n",
    "# If you're planning to continue training the model or use it for inference, move the model to the appropriate device\n",
    "loaded_lstm = loaded_lstm.cuda()  # or .to(device) if using a specific device\n"
   ]
  }
 ],
 "metadata": {
  "kernelspec": {
   "display_name": "Python 3",
   "language": "python",
   "name": "python3"
  },
  "language_info": {
   "codemirror_mode": {
    "name": "ipython",
    "version": 2
   },
   "file_extension": ".py",
   "mimetype": "text/x-python",
   "name": "python",
   "nbconvert_exporter": "python",
   "pygments_lexer": "ipython2",
   "version": "2.7.6"
  }
 },
 "nbformat": 4,
 "nbformat_minor": 0
}
